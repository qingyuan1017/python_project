{
 "cells": [
  {
   "cell_type": "code",
   "execution_count": 1,
   "metadata": {
    "collapsed": true
   },
   "outputs": [],
   "source": [
    "import numpy as np\n",
    "import pandas as pd\n",
    "import pydot_ng as pydot\n",
    "from IPython.display import Image "
   ]
  },
  {
   "cell_type": "markdown",
   "metadata": {},
   "source": [
    "# Taxi Cab Example"
   ]
  },
  {
   "cell_type": "code",
   "execution_count": 2,
   "metadata": {
    "collapsed": false
   },
   "outputs": [
    {
     "data": {
      "text/plain": [
       "array([[ 0. ,  0.7,  0.3],\n",
       "       [ 0.9,  0. ,  0.1],\n",
       "       [ 0.5,  0.5,  0. ]])"
      ]
     },
     "execution_count": 2,
     "metadata": {},
     "output_type": "execute_result"
    }
   ],
   "source": [
    "# Initialize the transition matrix\n",
    "P = np.array([[0,0.7,0.3],[0.9,0,0.1],[0.5,0.5,0]])\n",
    "P"
   ]
  },
  {
   "cell_type": "code",
   "execution_count": 3,
   "metadata": {
    "collapsed": false
   },
   "outputs": [
    {
     "data": {
      "text/plain": [
       "array([1, 0, 0])"
      ]
     },
     "execution_count": 3,
     "metadata": {},
     "output_type": "execute_result"
    }
   ],
   "source": [
    "# Location at time 0 (could be probabilistics)\n",
    "T0=np.array([1,0,0])\n",
    "T0"
   ]
  },
  {
   "cell_type": "code",
   "execution_count": 4,
   "metadata": {
    "collapsed": false
   },
   "outputs": [
    {
     "data": {
      "text/plain": [
       "array([ 0. ,  0.7,  0.3])"
      ]
     },
     "execution_count": 4,
     "metadata": {},
     "output_type": "execute_result"
    }
   ],
   "source": [
    "# probability of being at location i after 1 step\n",
    "T1=np.dot(T0,P)\n",
    "T1"
   ]
  },
  {
   "cell_type": "code",
   "execution_count": 5,
   "metadata": {
    "collapsed": false
   },
   "outputs": [
    {
     "data": {
      "text/plain": [
       "array([ 0.78,  0.15,  0.07])"
      ]
     },
     "execution_count": 5,
     "metadata": {},
     "output_type": "execute_result"
    }
   ],
   "source": [
    "# probability of being at location i after 2 steps\n",
    "T2 = np.dot(T1,P)\n",
    "T2"
   ]
  },
  {
   "cell_type": "code",
   "execution_count": 6,
   "metadata": {
    "collapsed": false,
    "scrolled": true
   },
   "outputs": [
    {
     "data": {
      "text/html": [
       "<div>\n",
       "<table border=\"1\" class=\"dataframe\">\n",
       "  <thead>\n",
       "    <tr style=\"text-align: right;\">\n",
       "      <th></th>\n",
       "      <th>A</th>\n",
       "      <th>B</th>\n",
       "      <th>C</th>\n",
       "    </tr>\n",
       "  </thead>\n",
       "  <tbody>\n",
       "    <tr>\n",
       "      <th>0</th>\n",
       "      <td>1.000000</td>\n",
       "      <td>0.000000</td>\n",
       "      <td>0.000000</td>\n",
       "    </tr>\n",
       "    <tr>\n",
       "      <th>1</th>\n",
       "      <td>0.000000</td>\n",
       "      <td>0.700000</td>\n",
       "      <td>0.300000</td>\n",
       "    </tr>\n",
       "    <tr>\n",
       "      <th>2</th>\n",
       "      <td>0.780000</td>\n",
       "      <td>0.150000</td>\n",
       "      <td>0.070000</td>\n",
       "    </tr>\n",
       "    <tr>\n",
       "      <th>3</th>\n",
       "      <td>0.170000</td>\n",
       "      <td>0.581000</td>\n",
       "      <td>0.249000</td>\n",
       "    </tr>\n",
       "    <tr>\n",
       "      <th>4</th>\n",
       "      <td>0.647400</td>\n",
       "      <td>0.243500</td>\n",
       "      <td>0.109100</td>\n",
       "    </tr>\n",
       "    <tr>\n",
       "      <th>5</th>\n",
       "      <td>0.273700</td>\n",
       "      <td>0.507730</td>\n",
       "      <td>0.218570</td>\n",
       "    </tr>\n",
       "    <tr>\n",
       "      <th>6</th>\n",
       "      <td>0.566242</td>\n",
       "      <td>0.300875</td>\n",
       "      <td>0.132883</td>\n",
       "    </tr>\n",
       "    <tr>\n",
       "      <th>7</th>\n",
       "      <td>0.337229</td>\n",
       "      <td>0.462811</td>\n",
       "      <td>0.199960</td>\n",
       "    </tr>\n",
       "    <tr>\n",
       "      <th>8</th>\n",
       "      <td>0.516510</td>\n",
       "      <td>0.336040</td>\n",
       "      <td>0.147450</td>\n",
       "    </tr>\n",
       "    <tr>\n",
       "      <th>9</th>\n",
       "      <td>0.376161</td>\n",
       "      <td>0.435282</td>\n",
       "      <td>0.188557</td>\n",
       "    </tr>\n",
       "    <tr>\n",
       "      <th>10</th>\n",
       "      <td>0.486032</td>\n",
       "      <td>0.357591</td>\n",
       "      <td>0.156377</td>\n",
       "    </tr>\n",
       "    <tr>\n",
       "      <th>11</th>\n",
       "      <td>0.400020</td>\n",
       "      <td>0.418411</td>\n",
       "      <td>0.181569</td>\n",
       "    </tr>\n",
       "    <tr>\n",
       "      <th>12</th>\n",
       "      <td>0.467354</td>\n",
       "      <td>0.370799</td>\n",
       "      <td>0.161847</td>\n",
       "    </tr>\n",
       "    <tr>\n",
       "      <th>13</th>\n",
       "      <td>0.414642</td>\n",
       "      <td>0.408071</td>\n",
       "      <td>0.177286</td>\n",
       "    </tr>\n",
       "    <tr>\n",
       "      <th>14</th>\n",
       "      <td>0.455907</td>\n",
       "      <td>0.378893</td>\n",
       "      <td>0.165200</td>\n",
       "    </tr>\n",
       "    <tr>\n",
       "      <th>15</th>\n",
       "      <td>0.423603</td>\n",
       "      <td>0.401735</td>\n",
       "      <td>0.174661</td>\n",
       "    </tr>\n",
       "    <tr>\n",
       "      <th>16</th>\n",
       "      <td>0.448892</td>\n",
       "      <td>0.383853</td>\n",
       "      <td>0.167255</td>\n",
       "    </tr>\n",
       "    <tr>\n",
       "      <th>17</th>\n",
       "      <td>0.429095</td>\n",
       "      <td>0.397852</td>\n",
       "      <td>0.173053</td>\n",
       "    </tr>\n",
       "    <tr>\n",
       "      <th>18</th>\n",
       "      <td>0.444593</td>\n",
       "      <td>0.386893</td>\n",
       "      <td>0.168514</td>\n",
       "    </tr>\n",
       "    <tr>\n",
       "      <th>19</th>\n",
       "      <td>0.432461</td>\n",
       "      <td>0.395472</td>\n",
       "      <td>0.172067</td>\n",
       "    </tr>\n",
       "    <tr>\n",
       "      <th>20</th>\n",
       "      <td>0.441959</td>\n",
       "      <td>0.388756</td>\n",
       "      <td>0.169285</td>\n",
       "    </tr>\n",
       "    <tr>\n",
       "      <th>21</th>\n",
       "      <td>0.434523</td>\n",
       "      <td>0.394014</td>\n",
       "      <td>0.171463</td>\n",
       "    </tr>\n",
       "    <tr>\n",
       "      <th>22</th>\n",
       "      <td>0.440344</td>\n",
       "      <td>0.389898</td>\n",
       "      <td>0.169758</td>\n",
       "    </tr>\n",
       "    <tr>\n",
       "      <th>23</th>\n",
       "      <td>0.435787</td>\n",
       "      <td>0.393120</td>\n",
       "      <td>0.171093</td>\n",
       "    </tr>\n",
       "    <tr>\n",
       "      <th>24</th>\n",
       "      <td>0.439354</td>\n",
       "      <td>0.390597</td>\n",
       "      <td>0.170048</td>\n",
       "    </tr>\n",
       "    <tr>\n",
       "      <th>25</th>\n",
       "      <td>0.436562</td>\n",
       "      <td>0.392572</td>\n",
       "      <td>0.170866</td>\n",
       "    </tr>\n",
       "    <tr>\n",
       "      <th>26</th>\n",
       "      <td>0.438748</td>\n",
       "      <td>0.391026</td>\n",
       "      <td>0.170226</td>\n",
       "    </tr>\n",
       "    <tr>\n",
       "      <th>27</th>\n",
       "      <td>0.437037</td>\n",
       "      <td>0.392236</td>\n",
       "      <td>0.170727</td>\n",
       "    </tr>\n",
       "    <tr>\n",
       "      <th>28</th>\n",
       "      <td>0.438376</td>\n",
       "      <td>0.391289</td>\n",
       "      <td>0.170335</td>\n",
       "    </tr>\n",
       "    <tr>\n",
       "      <th>29</th>\n",
       "      <td>0.437327</td>\n",
       "      <td>0.392031</td>\n",
       "      <td>0.170642</td>\n",
       "    </tr>\n",
       "    <tr>\n",
       "      <th>30</th>\n",
       "      <td>0.438149</td>\n",
       "      <td>0.391450</td>\n",
       "      <td>0.170401</td>\n",
       "    </tr>\n",
       "    <tr>\n",
       "      <th>31</th>\n",
       "      <td>0.437506</td>\n",
       "      <td>0.391905</td>\n",
       "      <td>0.170590</td>\n",
       "    </tr>\n",
       "    <tr>\n",
       "      <th>32</th>\n",
       "      <td>0.438009</td>\n",
       "      <td>0.391549</td>\n",
       "      <td>0.170442</td>\n",
       "    </tr>\n",
       "    <tr>\n",
       "      <th>33</th>\n",
       "      <td>0.437615</td>\n",
       "      <td>0.391827</td>\n",
       "      <td>0.170558</td>\n",
       "    </tr>\n",
       "    <tr>\n",
       "      <th>34</th>\n",
       "      <td>0.437923</td>\n",
       "      <td>0.391609</td>\n",
       "      <td>0.170467</td>\n",
       "    </tr>\n",
       "    <tr>\n",
       "      <th>35</th>\n",
       "      <td>0.437682</td>\n",
       "      <td>0.391780</td>\n",
       "      <td>0.170538</td>\n",
       "    </tr>\n",
       "    <tr>\n",
       "      <th>36</th>\n",
       "      <td>0.437871</td>\n",
       "      <td>0.391646</td>\n",
       "      <td>0.170483</td>\n",
       "    </tr>\n",
       "    <tr>\n",
       "      <th>37</th>\n",
       "      <td>0.437723</td>\n",
       "      <td>0.391751</td>\n",
       "      <td>0.170526</td>\n",
       "    </tr>\n",
       "    <tr>\n",
       "      <th>38</th>\n",
       "      <td>0.437839</td>\n",
       "      <td>0.391669</td>\n",
       "      <td>0.170492</td>\n",
       "    </tr>\n",
       "    <tr>\n",
       "      <th>39</th>\n",
       "      <td>0.437748</td>\n",
       "      <td>0.391733</td>\n",
       "      <td>0.170519</td>\n",
       "    </tr>\n",
       "    <tr>\n",
       "      <th>40</th>\n",
       "      <td>0.437819</td>\n",
       "      <td>0.391683</td>\n",
       "      <td>0.170498</td>\n",
       "    </tr>\n",
       "    <tr>\n",
       "      <th>41</th>\n",
       "      <td>0.437764</td>\n",
       "      <td>0.391722</td>\n",
       "      <td>0.170514</td>\n",
       "    </tr>\n",
       "    <tr>\n",
       "      <th>42</th>\n",
       "      <td>0.437807</td>\n",
       "      <td>0.391692</td>\n",
       "      <td>0.170501</td>\n",
       "    </tr>\n",
       "    <tr>\n",
       "      <th>43</th>\n",
       "      <td>0.437773</td>\n",
       "      <td>0.391716</td>\n",
       "      <td>0.170511</td>\n",
       "    </tr>\n",
       "    <tr>\n",
       "      <th>44</th>\n",
       "      <td>0.437800</td>\n",
       "      <td>0.391697</td>\n",
       "      <td>0.170503</td>\n",
       "    </tr>\n",
       "    <tr>\n",
       "      <th>45</th>\n",
       "      <td>0.437779</td>\n",
       "      <td>0.391712</td>\n",
       "      <td>0.170510</td>\n",
       "    </tr>\n",
       "    <tr>\n",
       "      <th>46</th>\n",
       "      <td>0.437795</td>\n",
       "      <td>0.391700</td>\n",
       "      <td>0.170505</td>\n",
       "    </tr>\n",
       "    <tr>\n",
       "      <th>47</th>\n",
       "      <td>0.437782</td>\n",
       "      <td>0.391709</td>\n",
       "      <td>0.170509</td>\n",
       "    </tr>\n",
       "    <tr>\n",
       "      <th>48</th>\n",
       "      <td>0.437792</td>\n",
       "      <td>0.391702</td>\n",
       "      <td>0.170506</td>\n",
       "    </tr>\n",
       "  </tbody>\n",
       "</table>\n",
       "</div>"
      ],
      "text/plain": [
       "           A         B         C\n",
       "0   1.000000  0.000000  0.000000\n",
       "1   0.000000  0.700000  0.300000\n",
       "2   0.780000  0.150000  0.070000\n",
       "3   0.170000  0.581000  0.249000\n",
       "4   0.647400  0.243500  0.109100\n",
       "5   0.273700  0.507730  0.218570\n",
       "6   0.566242  0.300875  0.132883\n",
       "7   0.337229  0.462811  0.199960\n",
       "8   0.516510  0.336040  0.147450\n",
       "9   0.376161  0.435282  0.188557\n",
       "10  0.486032  0.357591  0.156377\n",
       "11  0.400020  0.418411  0.181569\n",
       "12  0.467354  0.370799  0.161847\n",
       "13  0.414642  0.408071  0.177286\n",
       "14  0.455907  0.378893  0.165200\n",
       "15  0.423603  0.401735  0.174661\n",
       "16  0.448892  0.383853  0.167255\n",
       "17  0.429095  0.397852  0.173053\n",
       "18  0.444593  0.386893  0.168514\n",
       "19  0.432461  0.395472  0.172067\n",
       "20  0.441959  0.388756  0.169285\n",
       "21  0.434523  0.394014  0.171463\n",
       "22  0.440344  0.389898  0.169758\n",
       "23  0.435787  0.393120  0.171093\n",
       "24  0.439354  0.390597  0.170048\n",
       "25  0.436562  0.392572  0.170866\n",
       "26  0.438748  0.391026  0.170226\n",
       "27  0.437037  0.392236  0.170727\n",
       "28  0.438376  0.391289  0.170335\n",
       "29  0.437327  0.392031  0.170642\n",
       "30  0.438149  0.391450  0.170401\n",
       "31  0.437506  0.391905  0.170590\n",
       "32  0.438009  0.391549  0.170442\n",
       "33  0.437615  0.391827  0.170558\n",
       "34  0.437923  0.391609  0.170467\n",
       "35  0.437682  0.391780  0.170538\n",
       "36  0.437871  0.391646  0.170483\n",
       "37  0.437723  0.391751  0.170526\n",
       "38  0.437839  0.391669  0.170492\n",
       "39  0.437748  0.391733  0.170519\n",
       "40  0.437819  0.391683  0.170498\n",
       "41  0.437764  0.391722  0.170514\n",
       "42  0.437807  0.391692  0.170501\n",
       "43  0.437773  0.391716  0.170511\n",
       "44  0.437800  0.391697  0.170503\n",
       "45  0.437779  0.391712  0.170510\n",
       "46  0.437795  0.391700  0.170505\n",
       "47  0.437782  0.391709  0.170509\n",
       "48  0.437792  0.391702  0.170506"
      ]
     },
     "execution_count": 6,
     "metadata": {},
     "output_type": "execute_result"
    }
   ],
   "source": [
    "# iterate 50 times\n",
    "result = []\n",
    "T_i = T0\n",
    "for i in range(1,50):\n",
    "    result.append(T_i)\n",
    "    T_i = np.dot(T_i,P)\n",
    "pd.DataFrame(data=result, columns=['A','B','C'])"
   ]
  },
  {
   "cell_type": "code",
   "execution_count": 7,
   "metadata": {
    "collapsed": true
   },
   "outputs": [],
   "source": [
    "# An auxiliary function for plotting directed graphs\n",
    "#\n",
    "# Input parameters\n",
    "# ----------------\n",
    "# m - n by n matrix\n",
    "# labels - the labels associated with each node\n",
    "# output_file - name of the .png output file\n",
    "#\n",
    "#\n",
    "def plot_transition_matrix(m,labels,output_file):\n",
    "    graph = pydot.Dot(graph_type='digraph')\n",
    "    n = m.shape[0]\n",
    "    nodes = dict()\n",
    "    for i in range(n):\n",
    "        nodes[i]=pydot.Node(labels[i] + ' (' + str(i) + ')')\n",
    "        graph.add_node(nodes[i])\n",
    "    for i in range(n):\n",
    "        for j in range(n):\n",
    "            if m[i,j]>0:\n",
    "                graph.add_edge(pydot.Edge(nodes[i], nodes[j],label=str(m[i,j])))\n",
    "    graph.write_png(output_file) "
   ]
  },
  {
   "cell_type": "code",
   "execution_count": 8,
   "metadata": {
    "collapsed": false
   },
   "outputs": [],
   "source": [
    "# plot the graph to the file \n",
    "plot_transition_matrix(P,labels=['A','B','C'],output_file='temp.png')"
   ]
  },
  {
   "cell_type": "code",
   "execution_count": 9,
   "metadata": {
    "collapsed": false
   },
   "outputs": [
    {
     "data": {
      "image/png": "[encoded data removed]",
      "text/plain": [
       "<IPython.core.display.Image object>"
      ]
     },
     "execution_count": 9,
     "metadata": {},
     "output_type": "execute_result"
    }
   ],
   "source": [
    "# display graph\n",
    "Image('temp.png')"
   ]
  },
  {
   "cell_type": "markdown",
   "metadata": {
    "collapsed": true
   },
   "source": [
    "Recap\n",
    "- initialized transition matrix\n",
    "- computed iteratively 'stead state' probabilities\n",
    "- plotted the graph"
   ]
  },
  {
   "cell_type": "code",
   "execution_count": null,
   "metadata": {
    "collapsed": true
   },
   "outputs": [],
   "source": []
  }
 ],
 "metadata": {
  "kernelspec": {
   "display_name": "Python [conda root]",
   "language": "python",
   "name": "conda-root-py"
  },
  "language_info": {
   "codemirror_mode": {
    "name": "ipython",
    "version": 3
   },
   "file_extension": ".py",
   "mimetype": "text/x-python",
   "name": "python",
   "nbconvert_exporter": "python",
   "pygments_lexer": "ipython3",
   "version": "3.5.2"
  }
 },
 "nbformat": 4,
 "nbformat_minor": 2
}
