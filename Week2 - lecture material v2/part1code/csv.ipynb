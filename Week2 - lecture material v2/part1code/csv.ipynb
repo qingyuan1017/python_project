{
 "cells": [
  {
   "cell_type": "markdown",
   "metadata": {
    "nbpresent": {
     "id": "b6e038c1-cf99-48ba-8be4-45f29e2641c1"
    }
   },
   "source": [
    "# (1) Loading CSV files"
   ]
  },
  {
   "cell_type": "code",
   "execution_count": 4,
   "metadata": {
    "collapsed": true,
    "nbpresent": {
     "id": "d790b66b-39aa-4b22-a1a1-d7226fd36cc2"
    }
   },
   "outputs": [],
   "source": [
    "import pandas as pd\n",
    "#import numpy as np"
   ]
  },
  {
   "cell_type": "markdown",
   "metadata": {
    "nbpresent": {
     "id": "a1e03a39-635e-423a-a1b6-2727aef1e215"
    }
   },
   "source": [
    "## Basic file inspection"
   ]
  },
  {
   "cell_type": "code",
   "execution_count": null,
   "metadata": {
    "collapsed": false,
    "nbpresent": {
     "id": "f39919e8-86e1-4114-948b-f65a5c911f83"
    }
   },
   "outputs": [],
   "source": [
    "!pwd "
   ]
  },
  {
   "cell_type": "code",
   "execution_count": null,
   "metadata": {
    "collapsed": false
   },
   "outputs": [],
   "source": [
    "!ls"
   ]
  },
  {
   "cell_type": "code",
   "execution_count": null,
   "metadata": {
    "collapsed": false,
    "nbpresent": {
     "id": "aef7eec3-ab1c-4660-bf7b-2ac9bc7f3726"
    }
   },
   "outputs": [],
   "source": [
    "# count the number of lines\n",
    "!wc -l \"data1.csv\" "
   ]
  },
  {
   "cell_type": "code",
   "execution_count": null,
   "metadata": {
    "collapsed": false,
    "nbpresent": {
     "id": "8b090a79-82f9-4f44-821f-68f3a1d32be8"
    }
   },
   "outputs": [],
   "source": [
    "# print file to screen\n",
    "!cat \"data1.csv\" "
   ]
  },
  {
   "cell_type": "code",
   "execution_count": null,
   "metadata": {
    "collapsed": false,
    "nbpresent": {
     "id": "dc4d8546-0b8f-41bb-9a09-38bb7ab4151e"
    }
   },
   "outputs": [],
   "source": [
    "# print the first 3 lines\n",
    "!head -3 \"data1.csv\" "
   ]
  },
  {
   "cell_type": "markdown",
   "metadata": {
    "nbpresent": {
     "id": "b8d954f1-f8e7-48bd-b6c4-f24dc7e65a8b"
    }
   },
   "source": [
    "## Loading CSV Files to DataFrames"
   ]
  },
  {
   "cell_type": "code",
   "execution_count": null,
   "metadata": {
    "collapsed": false,
    "nbpresent": {
     "id": "26d85bf1-5e09-4a94-95d2-65b39bf5748b"
    }
   },
   "outputs": [],
   "source": [
    "df = pd.read_csv(\"data1.csv\")\n",
    "print(df)"
   ]
  },
  {
   "cell_type": "markdown",
   "metadata": {},
   "source": [
    "### Handling missing header"
   ]
  },
  {
   "cell_type": "code",
   "execution_count": null,
   "metadata": {
    "collapsed": false
   },
   "outputs": [],
   "source": [
    "!cat \"data1.csv\""
   ]
  },
  {
   "cell_type": "code",
   "execution_count": null,
   "metadata": {
    "collapsed": false,
    "nbpresent": {
     "id": "b4de007a-f15e-435f-a429-5e3a94f67cc2"
    }
   },
   "outputs": [],
   "source": [
    "!cat \"data2.csv\""
   ]
  },
  {
   "cell_type": "code",
   "execution_count": null,
   "metadata": {
    "collapsed": false
   },
   "outputs": [],
   "source": [
    "pd.read_csv(\"data2.csv\")"
   ]
  },
  {
   "cell_type": "code",
   "execution_count": null,
   "metadata": {
    "collapsed": false
   },
   "outputs": [],
   "source": [
    "pd.read_csv(\"data2.csv\", header=None)"
   ]
  },
  {
   "cell_type": "code",
   "execution_count": null,
   "metadata": {
    "collapsed": false,
    "nbpresent": {
     "id": "534c902d-b28a-4ba6-8f7f-9fa6bab21a8e"
    }
   },
   "outputs": [],
   "source": [
    "pd.read_csv(\"data2.csv\", header=None, names=['Language','Wiki','Articles','Pages','Edits'])"
   ]
  },
  {
   "cell_type": "markdown",
   "metadata": {},
   "source": [
    "### Skip lines in CSV file"
   ]
  },
  {
   "cell_type": "code",
   "execution_count": null,
   "metadata": {
    "collapsed": false
   },
   "outputs": [],
   "source": [
    "pd.read_csv('data3.csv') # expect an error"
   ]
  },
  {
   "cell_type": "code",
   "execution_count": null,
   "metadata": {
    "collapsed": false
   },
   "outputs": [],
   "source": [
    "!cat \"data3.csv\""
   ]
  },
  {
   "cell_type": "code",
   "execution_count": null,
   "metadata": {
    "collapsed": false
   },
   "outputs": [],
   "source": [
    "pd.read_csv('data3.csv',skiprows=5)"
   ]
  },
  {
   "cell_type": "code",
   "execution_count": null,
   "metadata": {
    "collapsed": false
   },
   "outputs": [],
   "source": [
    "pd.read_csv('data3.csv',skiprows=[0,1,2,3,4]) # alternative usage"
   ]
  },
  {
   "cell_type": "markdown",
   "metadata": {},
   "source": [
    "### * Custom column separator"
   ]
  },
  {
   "cell_type": "code",
   "execution_count": null,
   "metadata": {
    "collapsed": false
   },
   "outputs": [],
   "source": [
    "!cat \"data1_sep.csv\""
   ]
  },
  {
   "cell_type": "code",
   "execution_count": null,
   "metadata": {
    "collapsed": false
   },
   "outputs": [],
   "source": [
    "pd.read_csv(\"data1_sep.csv\")"
   ]
  },
  {
   "cell_type": "code",
   "execution_count": null,
   "metadata": {
    "collapsed": false
   },
   "outputs": [],
   "source": [
    "pd.read_csv(\"data1_sep.csv\", sep=\";\")"
   ]
  },
  {
   "cell_type": "markdown",
   "metadata": {},
   "source": [
    "### * Custom number specification "
   ]
  },
  {
   "cell_type": "code",
   "execution_count": null,
   "metadata": {
    "collapsed": false
   },
   "outputs": [],
   "source": [
    "df = pd.read_csv('data4.csv')\n",
    "print(df)"
   ]
  },
  {
   "cell_type": "code",
   "execution_count": null,
   "metadata": {
    "collapsed": false
   },
   "outputs": [],
   "source": [
    "!cat data4.csv"
   ]
  },
  {
   "cell_type": "code",
   "execution_count": null,
   "metadata": {
    "collapsed": false
   },
   "outputs": [],
   "source": [
    "# print the total number of admins\n",
    "df['Admins'].sum()"
   ]
  },
  {
   "cell_type": "code",
   "execution_count": null,
   "metadata": {
    "collapsed": false
   },
   "outputs": [],
   "source": [
    "# print the total number of Articles\n",
    "df['Articles'].sum()"
   ]
  },
  {
   "cell_type": "code",
   "execution_count": null,
   "metadata": {
    "collapsed": false
   },
   "outputs": [],
   "source": [
    "df.dtypes"
   ]
  },
  {
   "cell_type": "code",
   "execution_count": null,
   "metadata": {
    "collapsed": false
   },
   "outputs": [],
   "source": [
    "df2 = pd.read_csv(\"data4.csv\", thousands=',')"
   ]
  },
  {
   "cell_type": "code",
   "execution_count": null,
   "metadata": {
    "collapsed": false
   },
   "outputs": [],
   "source": [
    "df2.dtypes"
   ]
  },
  {
   "cell_type": "code",
   "execution_count": null,
   "metadata": {
    "collapsed": false
   },
   "outputs": [],
   "source": [
    "df2['Articles'].sum()"
   ]
  },
  {
   "cell_type": "markdown",
   "metadata": {},
   "source": [
    "### * Missing values"
   ]
  },
  {
   "cell_type": "code",
   "execution_count": null,
   "metadata": {
    "collapsed": false
   },
   "outputs": [],
   "source": [
    "!cat \"data5missing.csv\""
   ]
  },
  {
   "cell_type": "code",
   "execution_count": null,
   "metadata": {
    "collapsed": false
   },
   "outputs": [],
   "source": [
    "pd.read_csv(\"data5missing.csv\")"
   ]
  },
  {
   "cell_type": "code",
   "execution_count": null,
   "metadata": {
    "collapsed": false
   },
   "outputs": [],
   "source": [
    "pd.read_csv(\"data5missing.csv\", na_values=[\"?\"])"
   ]
  },
  {
   "cell_type": "markdown",
   "metadata": {},
   "source": [
    "### Processing Large Files"
   ]
  },
  {
   "cell_type": "code",
   "execution_count": null,
   "metadata": {
    "collapsed": false
   },
   "outputs": [],
   "source": [
    "# reading compressed files (pandas 0.18.1 supports the formats ‘gzip’, ‘bz2’, ‘zip’, ‘xz’)\n",
    "pd.read_csv(\"data6.zip\")"
   ]
  },
  {
   "cell_type": "code",
   "execution_count": null,
   "metadata": {
    "collapsed": false
   },
   "outputs": [],
   "source": [
    "# read 3 first rows of a file\n",
    "pd.read_csv(\"data6.zip\", nrows=3)"
   ]
  },
  {
   "cell_type": "code",
   "execution_count": null,
   "metadata": {
    "collapsed": false,
    "scrolled": true
   },
   "outputs": [],
   "source": [
    "# longer file\n",
    "!cat \"data7longer.csv\""
   ]
  },
  {
   "cell_type": "code",
   "execution_count": null,
   "metadata": {
    "collapsed": false
   },
   "outputs": [],
   "source": [
    "!wc \"data7longer.csv\""
   ]
  },
  {
   "cell_type": "code",
   "execution_count": null,
   "metadata": {
    "collapsed": false,
    "scrolled": true
   },
   "outputs": [],
   "source": [
    "# reading file in chunks\n",
    "active_users = 0\n",
    "for df in pd.read_csv('data7longer.csv', chunksize=30):\n",
    "    print('\\nBeginning of DataFrame\\n')\n",
    "    print(df)\n",
    "    active_users += sum(df['Active Users'])\n",
    "print('Total number of Active Users', active_users)"
   ]
  },
  {
   "cell_type": "markdown",
   "metadata": {},
   "source": [
    "### Commonly used parameters"
   ]
  },
  {
   "cell_type": "raw",
   "metadata": {},
   "source": [
    "# quotechar: The character used to denote the start and end of a quoted item. Quoted items can include the delimiter and it will be ignored. Example: pd.read_csv(\"data1.csv\",sep='\"')\n",
    "#\n",
    "# converters: Dict of functions for converting values in certain columns. Keys can either be integers or column labels. Example: pd.read_csv(\"data1.csv\", converters={'Pages':(lambda x:int(x)+1)})\n",
    "#\n",
    "# usecols: Loads a subset of the columns. \n",
    "#\n",
    "# index_col : Column to use as the row labels of the DataFrame\n",
    "#   \n",
    "# For the complete specification, see http://pandas.pydata.org/pandas-docs/stable/generated/pandas.read_csv.html "
   ]
  },
  {
   "cell_type": "markdown",
   "metadata": {},
   "source": [
    "## Exporting Dataframes to CSV files"
   ]
  },
  {
   "cell_type": "code",
   "execution_count": null,
   "metadata": {
    "collapsed": false
   },
   "outputs": [],
   "source": [
    "df1 = pd.read_csv(\"data1.csv\")\n",
    "df1"
   ]
  },
  {
   "cell_type": "code",
   "execution_count": null,
   "metadata": {
    "collapsed": false
   },
   "outputs": [],
   "source": [
    "df1.to_csv('data_out.csv')"
   ]
  },
  {
   "cell_type": "code",
   "execution_count": null,
   "metadata": {
    "collapsed": false
   },
   "outputs": [],
   "source": [
    "!cat data_out.csv"
   ]
  },
  {
   "cell_type": "code",
   "execution_count": null,
   "metadata": {
    "collapsed": false
   },
   "outputs": [],
   "source": [
    "df1.to_csv('data_out.csv', index=False)\n",
    "!cat data_out.csv"
   ]
  },
  {
   "cell_type": "code",
   "execution_count": null,
   "metadata": {
    "collapsed": false
   },
   "outputs": [],
   "source": [
    "df1.to_csv('data_out.csv', index=False, columns=['Language','Articles'])\n",
    "!cat data_out.csv"
   ]
  },
  {
   "cell_type": "code",
   "execution_count": null,
   "metadata": {
    "collapsed": true
   },
   "outputs": [],
   "source": [
    "# Additional exporting options: \n",
    "#\n",
    "# http://pandas.pydata.org/pandas-docs/stable/generated/pandas.DataFrame.to_csv.html"
   ]
  },
  {
   "cell_type": "markdown",
   "metadata": {},
   "source": [
    "## * Alternatives to pandas read_csv()"
   ]
  },
  {
   "cell_type": "markdown",
   "metadata": {},
   "source": [
    "### Line by line text reading"
   ]
  },
  {
   "cell_type": "code",
   "execution_count": null,
   "metadata": {
    "collapsed": false
   },
   "outputs": [],
   "source": [
    "f = open('data1.csv','r')\n",
    "for l in f:\n",
    "    print(l)\n",
    "f.close()"
   ]
  },
  {
   "cell_type": "markdown",
   "metadata": {},
   "source": [
    "### Line by line text parsing with the built-in package csv"
   ]
  },
  {
   "cell_type": "code",
   "execution_count": 7,
   "metadata": {
    "collapsed": false
   },
   "outputs": [
    {
     "name": "stdout",
     "output_type": "stream",
     "text": [
      "['Language', 'Wiki', 'Articles', 'Pages', 'Edits']\n",
      "['English', 'en', '5236357', '40155905', '847883223']\n",
      "['Swedish', 'sv', '3445556', '6910072', '36854915']\n",
      "['Cebuano', 'ceb', '2885091', '5354566', '10393518']\n",
      "['German', 'de', '1976573', '5699722', '162755765']\n",
      "['Dutch', 'nl', '1873902', '3637030', '48492474']\n"
     ]
    }
   ],
   "source": [
    "import csv\n",
    "# example 1 - print the parsed csv file\n",
    "csvfile=open('data1.csv')\n",
    "for row in csv.reader(csvfile, delimiter=',', quotechar='\"'):\n",
    "    print(row)\n",
    "csvfile.close()"
   ]
  },
  {
   "cell_type": "code",
   "execution_count": 8,
   "metadata": {
    "collapsed": false
   },
   "outputs": [
    {
     "data": {
      "text/html": [
       "<div>\n",
       "<table border=\"1\" class=\"dataframe\">\n",
       "  <thead>\n",
       "    <tr style=\"text-align: right;\">\n",
       "      <th></th>\n",
       "      <th>Language</th>\n",
       "      <th>Wiki</th>\n",
       "      <th>Articles</th>\n",
       "      <th>Pages</th>\n",
       "      <th>Edits</th>\n",
       "    </tr>\n",
       "  </thead>\n",
       "  <tbody>\n",
       "    <tr>\n",
       "      <th>0</th>\n",
       "      <td>English</td>\n",
       "      <td>en</td>\n",
       "      <td>5236357</td>\n",
       "      <td>40155905</td>\n",
       "      <td>847883223</td>\n",
       "    </tr>\n",
       "    <tr>\n",
       "      <th>1</th>\n",
       "      <td>Swedish</td>\n",
       "      <td>sv</td>\n",
       "      <td>3445556</td>\n",
       "      <td>6910072</td>\n",
       "      <td>36854915</td>\n",
       "    </tr>\n",
       "    <tr>\n",
       "      <th>2</th>\n",
       "      <td>Cebuano</td>\n",
       "      <td>ceb</td>\n",
       "      <td>2885091</td>\n",
       "      <td>5354566</td>\n",
       "      <td>10393518</td>\n",
       "    </tr>\n",
       "    <tr>\n",
       "      <th>3</th>\n",
       "      <td>German</td>\n",
       "      <td>de</td>\n",
       "      <td>1976573</td>\n",
       "      <td>5699722</td>\n",
       "      <td>162755765</td>\n",
       "    </tr>\n",
       "    <tr>\n",
       "      <th>4</th>\n",
       "      <td>Dutch</td>\n",
       "      <td>nl</td>\n",
       "      <td>1873902</td>\n",
       "      <td>3637030</td>\n",
       "      <td>48492474</td>\n",
       "    </tr>\n",
       "  </tbody>\n",
       "</table>\n",
       "</div>"
      ],
      "text/plain": [
       "  Language Wiki Articles     Pages      Edits\n",
       "0  English   en  5236357  40155905  847883223\n",
       "1  Swedish   sv  3445556   6910072   36854915\n",
       "2  Cebuano  ceb  2885091   5354566   10393518\n",
       "3   German   de  1976573   5699722  162755765\n",
       "4    Dutch   nl  1873902   3637030   48492474"
      ]
     },
     "execution_count": 8,
     "metadata": {},
     "output_type": "execute_result"
    }
   ],
   "source": [
    "# example 2 - read all lines\n",
    "lines = list(csv.reader(open('data1.csv')))\n",
    "header = lines[0]\n",
    "values = lines[1:]\n",
    "pd.DataFrame(data=values, columns=header)"
   ]
  },
  {
   "cell_type": "code",
   "execution_count": 9,
   "metadata": {
    "collapsed": false
   },
   "outputs": [
    {
     "data": {
      "text/html": [
       "<div>\n",
       "<table border=\"1\" class=\"dataframe\">\n",
       "  <thead>\n",
       "    <tr style=\"text-align: right;\">\n",
       "      <th></th>\n",
       "      <th>Language</th>\n",
       "      <th>Wiki</th>\n",
       "      <th>Articles</th>\n",
       "      <th>Pages</th>\n",
       "      <th>Edits</th>\n",
       "    </tr>\n",
       "  </thead>\n",
       "  <tbody>\n",
       "    <tr>\n",
       "      <th>0</th>\n",
       "      <td>English</td>\n",
       "      <td>en</td>\n",
       "      <td>5236357</td>\n",
       "      <td>40155905</td>\n",
       "      <td>847883223</td>\n",
       "    </tr>\n",
       "    <tr>\n",
       "      <th>1</th>\n",
       "      <td>Swedish</td>\n",
       "      <td>sv</td>\n",
       "      <td>3445556</td>\n",
       "      <td>6910072</td>\n",
       "      <td>36854915</td>\n",
       "    </tr>\n",
       "    <tr>\n",
       "      <th>2</th>\n",
       "      <td>Cebuano</td>\n",
       "      <td>ceb</td>\n",
       "      <td>2885091</td>\n",
       "      <td>5354566</td>\n",
       "      <td>10393518</td>\n",
       "    </tr>\n",
       "    <tr>\n",
       "      <th>3</th>\n",
       "      <td>German</td>\n",
       "      <td>de</td>\n",
       "      <td>1976573</td>\n",
       "      <td>5699722</td>\n",
       "      <td>162755765</td>\n",
       "    </tr>\n",
       "  </tbody>\n",
       "</table>\n",
       "</div>"
      ],
      "text/plain": [
       "  Language Wiki Articles     Pages      Edits\n",
       "0  English   en  5236357  40155905  847883223\n",
       "1  Swedish   sv  3445556   6910072   36854915\n",
       "2  Cebuano  ceb  2885091   5354566   10393518\n",
       "3   German   de  1976573   5699722  162755765"
      ]
     },
     "execution_count": 9,
     "metadata": {},
     "output_type": "execute_result"
    }
   ],
   "source": [
    "# example 3 - read first 4 lines\n",
    "csvfile = open('data1.csv')\n",
    "csvReader = csv.reader(csvfile)\n",
    "header = next(csvReader)\n",
    "values = [next(csvReader) for i in range(4)]\n",
    "csvfile.close()\n",
    "pd.DataFrame(data=values, columns=header)        "
   ]
  },
  {
   "cell_type": "markdown",
   "metadata": {},
   "source": [
    "## Class Exercise 1\n",
    "The format of the file \"data1.csv\" has been modified and saved as  \"data1modified.csv\"\n",
    "Load the file \"data1modified.csv\" into a DataFrame equivalent to df.read_csv(\"data1.csv\") \n",
    "You may use df1==df2 for comparison.\n",
    "\n",
    "Hint: start by printing the two files to screen"
   ]
  },
  {
   "cell_type": "code",
   "execution_count": 5,
   "metadata": {
    "collapsed": false
   },
   "outputs": [
    {
     "name": "stdout",
     "output_type": "stream",
     "text": [
      "Language,Wiki,Articles,Pages,Edits\n",
      "English,en,5236357,40155905,847883223\n",
      "Swedish,sv,3445556,6910072,36854915\n",
      "Cebuano,ceb,2885091,5354566,10393518\n",
      "German,de,1976573,5699722,162755765\n",
      "Dutch,nl,1873902,3637030,48492474\n",
      "11;English;en;5236357;40155905;847883223\n",
      "12;Swedish;sv;3445556;6910072;36854915\n",
      "13;Cebuano;ceb;2885091;5354566;10393518\n",
      "14;German;de;1976573;5699722;162755765\n",
      "15;Dutch;nl;1873902;3637030;48492474\n"
     ]
    },
    {
     "data": {
      "text/html": [
       "<div>\n",
       "<table border=\"1\" class=\"dataframe\">\n",
       "  <thead>\n",
       "    <tr style=\"text-align: right;\">\n",
       "      <th></th>\n",
       "      <th>Language</th>\n",
       "      <th>Wiki</th>\n",
       "      <th>Articles</th>\n",
       "      <th>Pages</th>\n",
       "      <th>Edits</th>\n",
       "    </tr>\n",
       "  </thead>\n",
       "  <tbody>\n",
       "    <tr>\n",
       "      <th>0</th>\n",
       "      <td>True</td>\n",
       "      <td>True</td>\n",
       "      <td>True</td>\n",
       "      <td>True</td>\n",
       "      <td>True</td>\n",
       "    </tr>\n",
       "    <tr>\n",
       "      <th>1</th>\n",
       "      <td>True</td>\n",
       "      <td>True</td>\n",
       "      <td>True</td>\n",
       "      <td>True</td>\n",
       "      <td>True</td>\n",
       "    </tr>\n",
       "    <tr>\n",
       "      <th>2</th>\n",
       "      <td>True</td>\n",
       "      <td>True</td>\n",
       "      <td>True</td>\n",
       "      <td>True</td>\n",
       "      <td>True</td>\n",
       "    </tr>\n",
       "    <tr>\n",
       "      <th>3</th>\n",
       "      <td>True</td>\n",
       "      <td>True</td>\n",
       "      <td>True</td>\n",
       "      <td>True</td>\n",
       "      <td>True</td>\n",
       "    </tr>\n",
       "    <tr>\n",
       "      <th>4</th>\n",
       "      <td>True</td>\n",
       "      <td>True</td>\n",
       "      <td>True</td>\n",
       "      <td>True</td>\n",
       "      <td>True</td>\n",
       "    </tr>\n",
       "  </tbody>\n",
       "</table>\n",
       "</div>"
      ],
      "text/plain": [
       "  Language  Wiki Articles Pages Edits\n",
       "0     True  True     True  True  True\n",
       "1     True  True     True  True  True\n",
       "2     True  True     True  True  True\n",
       "3     True  True     True  True  True\n",
       "4     True  True     True  True  True"
      ]
     },
     "execution_count": 5,
     "metadata": {},
     "output_type": "execute_result"
    }
   ],
   "source": [
    "# write your solution here\n",
    "!cat data1.csv\n",
    "!cat data1modified.csv\n",
    "df1 = pd.read_csv(\"data1.csv\")\n",
    "df2 = pd.read_csv(\"data1modified.csv\", sep=';', names=['num','Language','Wiki','Articles','Pages','Edits'],usecols=['Language','Wiki','Articles','Pages','Edits'])\n",
    "df1==df2"
   ]
  },
  {
   "cell_type": "markdown",
   "metadata": {
    "collapsed": true
   },
   "source": [
    "<br style=margin:500px;>\n",
    "___"
   ]
  },
  {
   "cell_type": "code",
   "execution_count": null,
   "metadata": {
    "collapsed": false
   },
   "outputs": [],
   "source": [
    "!cat data1.csv"
   ]
  },
  {
   "cell_type": "code",
   "execution_count": null,
   "metadata": {
    "collapsed": false
   },
   "outputs": [],
   "source": [
    "!cat data1modified.csv"
   ]
  },
  {
   "cell_type": "code",
   "execution_count": null,
   "metadata": {
    "collapsed": false
   },
   "outputs": [],
   "source": [
    "# Solution\n",
    "df1 = pd.read_csv(\"data1.csv\")\n",
    "df2 = pd.read_csv(\"data1modified.csv\", sep=';', names=['num','Language','Wiki','Articles','Pages','Edits'],usecols=['Language','Wiki','Articles','Pages','Edits'])\n",
    "df1==df2"
   ]
  },
  {
   "cell_type": "markdown",
   "metadata": {},
   "source": [
    "## Class Exercise 2\n",
    "Explore the file \"data pageviews-20160801-000000\"\n",
    "  1. What is the size of the file? (3705962bytes = 3.7mb)\n",
    "  2. Print the first 10 rows\n",
    "  3. Load the file into a DataFrame. Set the column names to: \"Project\",\"Title\",\"Pageviews\",\"x\"\n",
    "  4. What is the total number of rows? (df.shape, 100,000)\n",
    "  5. What is the total number of Pageviews? (df[\"Pageviews\"].sum() 233,058)"
   ]
  },
  {
   "cell_type": "code",
   "execution_count": null,
   "metadata": {
    "collapsed": true
   },
   "outputs": [],
   "source": [
    "# write your solution here"
   ]
  },
  {
   "cell_type": "markdown",
   "metadata": {
    "collapsed": true
   },
   "source": [
    "<br style=margin:500px;>\n",
    "___"
   ]
  },
  {
   "cell_type": "code",
   "execution_count": null,
   "metadata": {
    "collapsed": false
   },
   "outputs": [],
   "source": [
    "# Solution\n",
    "# 1) Check file sizes \n",
    "!ls -l"
   ]
  },
  {
   "cell_type": "code",
   "execution_count": null,
   "metadata": {
    "collapsed": false
   },
   "outputs": [],
   "source": [
    "# 2) Print the first 10 rows\n",
    "!head -10 \"data pageviews-20160801-000000\""
   ]
  },
  {
   "cell_type": "code",
   "execution_count": null,
   "metadata": {
    "collapsed": false
   },
   "outputs": [],
   "source": [
    "# 3) Load the file into a DataFrame\n",
    "df = pd.read_csv(\"data pageviews-20160801-000000\", sep=\" \", names=[\"Project\",\"Title\",\"Pageviews\",\"x\"],encoding='utf8')"
   ]
  },
  {
   "cell_type": "code",
   "execution_count": null,
   "metadata": {
    "collapsed": false
   },
   "outputs": [],
   "source": [
    "# 4) print the dimensions of the loaded dataframe\n",
    "df.shape"
   ]
  },
  {
   "cell_type": "code",
   "execution_count": null,
   "metadata": {
    "collapsed": false
   },
   "outputs": [],
   "source": [
    "# 5) compute the total nuber of pageviews\n",
    "df[\"Pageviews\"].sum()"
   ]
  },
  {
   "cell_type": "code",
   "execution_count": null,
   "metadata": {
    "collapsed": false
   },
   "outputs": [],
   "source": [
    "df.head(10)"
   ]
  },
  {
   "cell_type": "code",
   "execution_count": null,
   "metadata": {
    "collapsed": true
   },
   "outputs": [],
   "source": []
  },
  {
   "cell_type": "code",
   "execution_count": null,
   "metadata": {
    "collapsed": true
   },
   "outputs": [],
   "source": []
  }
 ],
 "metadata": {
  "anaconda-cloud": {},
  "kernelspec": {
   "display_name": "Python [conda root]",
   "language": "python",
   "name": "conda-root-py"
  },
  "language_info": {
   "codemirror_mode": {
    "name": "ipython",
    "version": 3
   },
   "file_extension": ".py",
   "mimetype": "text/x-python",
   "name": "python",
   "nbconvert_exporter": "python",
   "pygments_lexer": "ipython3",
   "version": "3.5.2"
  },
  "nbpresent": {
   "slides": {
    "50b49ae1-c55d-43e3-a08c-c6cc899f200d": {
     "id": "50b49ae1-c55d-43e3-a08c-c6cc899f200d",
     "prev": null,
     "regions": {
      "f8b9e098-221a-4a9b-a9f4-a5a3ac8c99f4": {
       "attrs": {
        "height": 1,
        "width": 1,
        "x": 0,
        "y": 0
       },
       "id": "f8b9e098-221a-4a9b-a9f4-a5a3ac8c99f4"
      }
     }
    }
   },
   "themes": {}
  }
 },
 "nbformat": 4,
 "nbformat_minor": 0
}
