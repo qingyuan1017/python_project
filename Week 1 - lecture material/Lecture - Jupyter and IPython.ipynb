{
 "cells": [
  {
   "cell_type": "markdown",
   "metadata": {
    "nbpresent": {
     "id": "b580fe61-93ad-4043-810d-94f519069b1b"
    }
   },
   "source": [
    "# (1) Jupyter Notebook"
   ]
  },
  {
   "cell_type": "code",
   "execution_count": 1,
   "metadata": {
    "collapsed": false,
    "nbpresent": {
     "id": "71273f19-2320-4752-8528-3c6c4ef4e085"
    },
    "scrolled": true
   },
   "outputs": [
    {
     "name": "stdout",
     "output_type": "stream",
     "text": [
      "3\n"
     ]
    }
   ],
   "source": [
    "# this is a code cell - type Shift+Enter or click Run to execute\n",
    "x = 3\n",
    "print(x)"
   ]
  },
  {
   "cell_type": "code",
   "execution_count": 2,
   "metadata": {
    "collapsed": true,
    "nbpresent": {
     "id": "150111bf-87f7-4761-a3c6-21f47452f3ac"
    }
   },
   "outputs": [
    {
     "name": "stdout",
     "output_type": "stream",
     "text": [
      "0\n",
      "1\n",
      "2\n",
      "3\n",
      "4\n",
      "5\n",
      "6\n",
      "7\n",
      "8\n",
      "9\n",
      "10\n",
      "11\n",
      "12\n",
      "13\n",
      "14\n",
      "15\n",
      "16\n",
      "17\n",
      "18\n",
      "19\n",
      "20\n",
      "21\n",
      "22\n",
      "23\n",
      "24\n",
      "25\n",
      "26\n",
      "27\n",
      "28\n",
      "29\n",
      "30\n",
      "31\n",
      "32\n",
      "33\n",
      "34\n",
      "35\n",
      "36\n",
      "37\n",
      "38\n",
      "39\n",
      "40\n",
      "41\n",
      "42\n",
      "43\n",
      "44\n",
      "45\n",
      "46\n",
      "47\n",
      "48\n",
      "49\n"
     ]
    }
   ],
   "source": [
    "# the asterisk denotes that the kernel is running\n",
    "import time\n",
    "for i in range(50):\n",
    "    time.sleep(0.1)\n",
    "    print(i)"
   ]
  },
  {
   "cell_type": "markdown",
   "metadata": {
    "nbpresent": {
     "id": "967feb60-dcc7-474f-8f64-2af41171a178"
    }
   },
   "source": [
    "### This is a Markdown cell  \n",
    "  - Similar to code cells\n",
    "  - double click to edit\n",
    "  - run to render\n",
    "\n",
    "__Remember__ to change cell type to _\"Markdown\"_"
   ]
  },
  {
   "cell_type": "markdown",
   "metadata": {
    "nbpresent": {
     "id": "4a20b198-802d-4848-9246-b5f5efac0bab"
    }
   },
   "source": [
    "You may also add photos:\n",
    "<img src=\"cuban_rock_iguana.jpg\" style=\"width: 200px;\"  />\n",
    "\n",
    "Website references: [http://animals.sandiegozoo.org](http://animals.sandiegozoo.org)\n",
    "\n",
    "And even HTML code:\n",
    " <table style=\"width:100%\">\n",
    "  <tr>\n",
    "    <th>Firstname</th>\n",
    "    <th>Lastname</th>\n",
    "    <th>Age</th>\n",
    "  </tr>\n",
    "  <tr>\n",
    "    <td>Jill</td>\n",
    "    <td>Smith</td>\n",
    "    <td>50</td>\n",
    "  </tr>\n",
    "  <tr>\n",
    "    <td>Eve</td>\n",
    "    <td>Jackson</td>\n",
    "    <td>94</td>\n",
    "  </tr>\n",
    "</table> \n",
    "\n",
    "See \n",
    "  * http://jupyter-notebook.readthedocs.io/en/latest/examples/Notebook/Working%20With%20Markdown%20Cells.html \n",
    "  * http://www.w3schools.com/html/html_tables.asp"
   ]
  },
  {
   "cell_type": "markdown",
   "metadata": {
    "nbpresent": {
     "id": "ae6122e6-8fa8-4cf5-ab11-83209f038663"
    }
   },
   "source": [
    "# (2) Overview of IPython features"
   ]
  },
  {
   "cell_type": "markdown",
   "metadata": {
    "nbpresent": {
     "id": "e9c8bfd9-f52d-454f-a847-43ecf98fb884"
    }
   },
   "source": [
    "## Look and feel"
   ]
  },
  {
   "cell_type": "code",
   "execution_count": 3,
   "metadata": {
    "collapsed": false,
    "nbpresent": {
     "id": "54af813d-1abb-49de-a691-594b62a71616"
    }
   },
   "outputs": [
    {
     "name": "stdout",
     "output_type": "stream",
     "text": [
      "0\n",
      "1\n",
      "2\n",
      "3\n",
      "4\n",
      "5\n",
      "6\n",
      "7\n",
      "8\n",
      "9\n"
     ]
    }
   ],
   "source": [
    "for i in range(10):\n",
    "    print(i)"
   ]
  },
  {
   "cell_type": "markdown",
   "metadata": {
    "nbpresent": {
     "id": "80c8d07d-ae59-46f3-b8f4-30632b50b31a"
    }
   },
   "source": [
    "## Auto-completion"
   ]
  },
  {
   "cell_type": "code",
   "execution_count": 2,
   "metadata": {
    "collapsed": true,
    "nbpresent": {
     "id": "dab3b440-6ccd-4acb-a777-c11dc0e18f61"
    }
   },
   "outputs": [],
   "source": [
    "import numpy as np"
   ]
  },
  {
   "cell_type": "code",
   "execution_count": 3,
   "metadata": {
    "collapsed": false,
    "nbpresent": {
     "id": "3ba55ef1-ec21-4a15-b553-be6447d238bb"
    }
   },
   "outputs": [
    {
     "ename": "SyntaxError",
     "evalue": "invalid syntax (<ipython-input-3-4afbdea02349>, line 1)",
     "output_type": "error",
     "traceback": [
      "\u001b[0;36m  File \u001b[0;32m\"<ipython-input-3-4afbdea02349>\"\u001b[0;36m, line \u001b[0;32m1\u001b[0m\n\u001b[0;31m    np. #complete with TAB\u001b[0m\n\u001b[0m                          ^\u001b[0m\n\u001b[0;31mSyntaxError\u001b[0m\u001b[0;31m:\u001b[0m invalid syntax\n"
     ]
    }
   ],
   "source": [
    "np. #complete with TAB"
   ]
  },
  {
   "cell_type": "markdown",
   "metadata": {
    "nbpresent": {
     "id": "375dd416-7131-42c5-aa72-d50716ad6e9e"
    }
   },
   "source": [
    "## Object introspection"
   ]
  },
  {
   "cell_type": "code",
   "execution_count": 4,
   "metadata": {
    "collapsed": false,
    "nbpresent": {
     "id": "6ac4b3f9-1c4f-46f8-80eb-a77f27ee6111"
    }
   },
   "outputs": [],
   "source": [
    "np.random.randint?"
   ]
  },
  {
   "cell_type": "markdown",
   "metadata": {},
   "source": [
    "## Operating system shell"
   ]
  },
  {
   "cell_type": "code",
   "execution_count": 7,
   "metadata": {
    "collapsed": false
   },
   "outputs": [
    {
     "name": "stdout",
     "output_type": "stream",
     "text": [
      "C:\\Dropbox\\Projects\\ds with python\\Week 1 - Jupyter and IPython\\code\n"
     ]
    }
   ],
   "source": [
    "!pwd"
   ]
  },
  {
   "cell_type": "code",
   "execution_count": 8,
   "metadata": {
    "collapsed": false
   },
   "outputs": [
    {
     "name": "stdout",
     "output_type": "stream",
     "text": [
      "book1.txt\n",
      "book2.txt\n",
      "book3.txt\n",
      "create_list.py\n",
      "create_list_x.py\n",
      "create_long_list.py\n",
      "cuban_rock_iguana.jpg\n",
      "Lecture - Jupyter and IPython.ipynb\n",
      "matrix_calculations.py\n",
      "novel.txt\n"
     ]
    }
   ],
   "source": [
    "!ls"
   ]
  },
  {
   "cell_type": "markdown",
   "metadata": {},
   "source": [
    "# (3) Operating system shell"
   ]
  },
  {
   "cell_type": "code",
   "execution_count": 9,
   "metadata": {
    "collapsed": false
   },
   "outputs": [
    {
     "name": "stdout",
     "output_type": "stream",
     "text": [
      "C:\\Dropbox\\Projects\\ds with python\\Week 1 - Jupyter and IPython\\code\n"
     ]
    }
   ],
   "source": [
    "!pwd"
   ]
  },
  {
   "cell_type": "code",
   "execution_count": 10,
   "metadata": {
    "collapsed": false
   },
   "outputs": [
    {
     "name": "stdout",
     "output_type": "stream",
     "text": [
      "book1.txt\n",
      "book2.txt\n",
      "book3.txt\n",
      "create_list.py\n",
      "create_list_x.py\n",
      "create_long_list.py\n",
      "cuban_rock_iguana.jpg\n",
      "Lecture - Jupyter and IPython.ipynb\n",
      "matrix_calculations.py\n",
      "novel.txt\n"
     ]
    }
   ],
   "source": [
    "!ls"
   ]
  },
  {
   "cell_type": "code",
   "execution_count": 11,
   "metadata": {
    "collapsed": true
   },
   "outputs": [],
   "source": [
    "files = !ls"
   ]
  },
  {
   "cell_type": "code",
   "execution_count": 12,
   "metadata": {
    "collapsed": false
   },
   "outputs": [
    {
     "data": {
      "text/plain": [
       "['book1.txt',\n",
       " 'book2.txt',\n",
       " 'book3.txt',\n",
       " 'create_list.py',\n",
       " 'create_list_x.py',\n",
       " 'create_long_list.py',\n",
       " 'cuban_rock_iguana.jpg',\n",
       " 'Lecture - Jupyter and IPython.ipynb',\n",
       " 'matrix_calculations.py',\n",
       " 'novel.txt']"
      ]
     },
     "execution_count": 12,
     "metadata": {},
     "output_type": "execute_result"
    }
   ],
   "source": [
    "files"
   ]
  },
  {
   "cell_type": "code",
   "execution_count": 13,
   "metadata": {
    "collapsed": false
   },
   "outputs": [
    {
     "name": "stdout",
     "output_type": "stream",
     "text": [
      "# generate a list\n",
      "result = []\n",
      "for i in range(10):\n",
      "\tprint(i)\n",
      "\tresult.append(i)\n"
     ]
    }
   ],
   "source": [
    "!cat create_list.py"
   ]
  },
  {
   "cell_type": "code",
   "execution_count": 14,
   "metadata": {
    "collapsed": false
   },
   "outputs": [
    {
     "name": "stdout",
     "output_type": "stream",
     "text": [
      "ï»¿The Project Gutenberg EBook of A Christmas Carol, by Charles Dickens\n",
      "\n",
      "This eBook is for the use of anyone anywhere at no cost and with\n",
      "almost no restrictions whatsoever.  You may copy it, give it away or\n",
      "re-use it under the terms of the Project Gutenberg License included\n",
      "with this eBook or online at www.gutenberg.org\n",
      "\n",
      "\n",
      "Title: A Christmas Carol\n",
      "\n"
     ]
    }
   ],
   "source": [
    "!head -10 novel.txt"
   ]
  },
  {
   "cell_type": "code",
   "execution_count": 15,
   "metadata": {
    "collapsed": false
   },
   "outputs": [
    {
     "name": "stdout",
     "output_type": "stream",
     "text": [
      "  3853  32326 186809 novel.txt\n"
     ]
    }
   ],
   "source": [
    "!wc novel.txt"
   ]
  },
  {
   "cell_type": "code",
   "execution_count": 16,
   "metadata": {
    "collapsed": false,
    "scrolled": true
   },
   "outputs": [
    {
     "name": "stdout",
     "output_type": "stream",
     "text": [
      "ï»¿The Project Gutenberg EBook of A Christmas Carol, by Charles Dickens\n",
      "Title: A Christmas Carol\n",
      "happy feeling toward Christmas, though the privations and hardships of\n",
      "Dickens gave his first formal expression to his Christmas thoughts in\n",
      "his series of small books, the first of which was the famous \"Christmas\n",
      "known to-day as the \"Christmas Books.\" Of them all the \"Carol\" is the\n",
      "stories. Whoever sees but a clever ghost story in the \"Christmas Carol\"\n",
      "_\"A Merry Christmas, Uncle! God save you!\" cried a cheerful voice._     14\n",
      "dog-days; and didn't thaw it one degree at Christmas.\n",
      "Once upon a time--of all the good days in the year, on Christmas\n",
      "\"A merry Christmas, uncle! God save you!\" cried a cheerful voice. It was\n",
      "\"Christmas a humbug, uncle!\" said Scrooge's nephew. \"You don't mean\n",
      "\"I do,\" said Scrooge. \"Merry Christmas! What right have you to be merry?\n",
      "[Illustration: _\"A Merry Christmas, uncle! God save you!\" cried a\n",
      "of fools as this? Merry Christmas! Out upon merry Christmas! What's\n",
      "Christmas-time to you but a time for paying bills without money; a time\n",
      "Scrooge indignantly, \"every idiot who goes about with 'Merry Christmas'\n",
      "\"Nephew!\" returned the uncle sternly, \"keep Christmas in your own way,\n",
      "have not profited, I dare say,\" returned the nephew; \"Christmas among\n",
      "the rest. But I am sure I have always thought of Christmas-time, when it\n",
      "your Christmas by losing your situation! You're quite a powerful\n",
      "one thing in the world more ridiculous than a merry Christmas. \"Good\n",
      "in homage to Christmas, and I'll keep my Christmas humour to the last.\n",
      "So A Merry Christmas, uncle!\"\n",
      "about a merry Christmas. I'll retire to Bedlam.\"\n",
      "gentlemen, that is my answer. I don't make merry myself at Christmas,\n",
      "fifty cooks and butlers to keep Christmas as a Lord Mayor's household\n",
      "stooped down at Scrooge's keyhole to regale him with a Christmas carol;\n",
      "boys, twenty times, in honour of its being Christmas-eve, and then ran\n",
      "seven Christmas-eves ago. You have laboured on it since. It is a\n",
      "\"I am the Ghost of Christmas Past.\"\n",
      "Christmas, as they parted at cross-roads and by-ways for their several\n",
      "homes? What was merry Christmas to Scrooge? Out upon merry Christmas!\n",
      "honest Ali Baba! Yes, yes, I know. One Christmas-time when yonder\n",
      "\"Nothing,\" said Scrooge. \"Nothing. There was a boy singing a Christmas\n",
      "\"Let us see another Christmas!\"\n",
      "come back here; but first we're to be together all the Christmas long,\n",
      "by the dressing of the shops, that here, too, it was Christmas-time\n",
      "\"Yo ho, my boys!\" said Fezziwig. \"No more work to-night. Christmas-eve,\n",
      "Dick. Christmas, Ebenezer! Let's have the shutters up,\" cried old\n",
      "or her a Merry Christmas. When everybody had retired but the two\n",
      "shone out of the Ghost of Christmas Past.\n",
      "Christmas toys and presents. Then the shouting and the struggling, and\n",
      "\"I am the Ghost of Christmas Present,\" said the Spirit. \"Look upon me!\"\n",
      "The Ghost of Christmas Present rose.\n",
      "hour of night, and they stood in the city streets on Christmas morning,\n",
      "was good to eat and in its Christmas dress; but the customers were all\n",
      "and for Christmas daws to peck at if they chose.\n",
      "quarrel upon Christmas-day. And so it was! God love it, so it was!\n",
      "Christmas Present blessed his four-roomed house!\n",
      "your brother, Tiny Tim? And Martha warn't as late last Christmas-day by\n",
      "rampant. \"Not coming upon Christmas-day!\"\n",
      "remember upon Christmas-day who made lame beggars walk and blind men\n",
      "ignited brandy, and bedight with Christmas holly stuck into the top.\n",
      "\"A merry Christmas to us all, my dears. God bless us!\"\n",
      "\"My dear,\" said Bob, \"the children! Christmas-day.\"\n",
      "\"It should be Christmas-day, I am sure,\" said she, \"on which one drinks\n",
      "\"My dear!\" was Bob's mild answer. \"Christmas-day.\"\n",
      "\"not for his. Long life to him! A merry Christmas and a happy New Year!\n",
      "he had any company but Christmas.\n",
      "upon the barren waste, was singing them a Christmas song; it had been a\n",
      "table at which they sat, they wished each other Merry Christmas in their\n",
      "several stations; but every man among them hummed a Christmas tune, or\n",
      "had a Christmas thought, or spoke below his breath to his companion of\n",
      "some bygone Christmas-day, with homeward hopes belonging to it. And\n",
      "\"He said that Christmas was a humbug, as I live!\" cried Scrooge's\n",
      "I pity him. He may rail at Christmas till he dies, but he can't help\n",
      "of Christmas Past. When this strain of music sounded, all the things\n",
      "better than at Christmas, when its mighty Founder was a child himself.\n",
      "Scrooge's nephew; and that the Ghost of Christmas Present knew it. The\n",
      "\"A merry Christmas and a happy New Year to the old man, whatever he is!\"\n",
      "of this, because the Christmas holidays appeared to be condensed into\n",
      "\"I am in the presence of the Ghost of Christmas Yet to Come?\" said\n",
      "\"Seasonable for Christmas-time. You are not a skater, I suppose?\"\n",
      "lighted cheerfully, and hung with Christmas. There was a chair set close\n",
      "The Ghost of Christmas Yet To Come conveyed him, as before--though at a\n",
      "\"I will honour Christmas in my heart, and try to keep it all the year. I\n",
      "within me. Oh, Jacob Marley! Heaven and the Christmas Time be praised\n",
      "a school-boy. I am as giddy as a drunken man. A merry Christmas to\n",
      "Christmas Present sat! There's the window where I saw the wandering\n",
      "\"It's Christmas Day!\" said Scrooge to himself. \"I haven't missed it. The\n",
      "Whoop! How are you? Merry Christmas!\"\n",
      "with the Ghost of Christmas Present; and, walking with his hands behind\n",
      "fellows said, \"Good morning, sir! A merry Christmas to you!\" And Scrooge\n",
      "yesterday. It was very kind of you. A merry Christmas to you, sir!\"\n",
      "\"A merry Christmas, Bob!\" said Scrooge with an earnestness that could\n",
      "not be mistaken, as he clapped him on the back. \"A merrier Christmas,\n",
      "discuss your affairs this very afternoon, over a Christmas bowl of\n",
      "him that he knew how to keep Christmas well, if any man alive possessed\n",
      "End of the Project Gutenberg EBook of A Christmas Carol, by Charles Dickens\n"
     ]
    }
   ],
   "source": [
    "!grep Christmas novel.txt"
   ]
  },
  {
   "cell_type": "code",
   "execution_count": 17,
   "metadata": {
    "collapsed": false,
    "scrolled": true
   },
   "outputs": [
    {
     "name": "stdout",
     "output_type": "stream",
     "text": [
      "Usage: grep [OPTION]... PATTERN [FILE]...\n",
      "Search for PATTERN in each FILE or standard input.\n",
      "PATTERN is, by default, a basic regular expression (BRE).\n",
      "Example: grep -i 'hello world' menu.h main.c\n",
      "\n",
      "Regexp selection and interpretation:\n",
      "  -E, --extended-regexp     PATTERN is an extended regular expression (ERE)\n",
      "  -F, --fixed-strings       PATTERN is a set of newline-separated fixed strings\n",
      "  -G, --basic-regexp        PATTERN is a basic regular expression (BRE)\n",
      "  -P, --perl-regexp         PATTERN is a Perl regular expression\n",
      "  -e, --regexp=PATTERN      use PATTERN for matching\n",
      "  -f, --file=FILE           obtain PATTERN from FILE\n",
      "  -i, --ignore-case         ignore case distinctions\n",
      "  -w, --word-regexp         force PATTERN to match only whole words\n",
      "  -x, --line-regexp         force PATTERN to match only whole lines\n",
      "  -z, --null-data           a data line ends in 0 byte, not newline\n",
      "\n",
      "Miscellaneous:\n",
      "  -s, --no-messages         suppress error messages\n",
      "  -v, --invert-match        select non-matching lines\n",
      "  -V, --version             print version information and exit\n",
      "      --help                display this help and exit\n",
      "      --mmap                use memory-mapped input if possible\n",
      "\n",
      "Output control:\n",
      "  -m, --max-count=NUM       stop after NUM matches\n",
      "  -b, --byte-offset         print the byte offset with output lines\n",
      "  -n, --line-number         print line number with output lines\n",
      "      --line-buffered       flush output on every line\n",
      "  -H, --with-filename       print the filename for each match\n",
      "  -h, --no-filename         suppress the prefixing filename on output\n",
      "      --label=LABEL         print LABEL as filename for standard input\n",
      "  -o, --only-matching       show only the part of a line matching PATTERN\n",
      "  -q, --quiet, --silent     suppress all normal output\n",
      "      --binary-files=TYPE   assume that binary files are TYPE;\n",
      "                            TYPE is `binary', `text', or `without-match'\n",
      "  -a, --text                equivalent to --binary-files=text\n",
      "  -I                        equivalent to --binary-files=without-match\n",
      "  -d, --directories=ACTION  how to handle directories;\n",
      "                            ACTION is `read', `recurse', or `skip'\n",
      "  -D, --devices=ACTION      how to handle devices, FIFOs and sockets;\n",
      "                            ACTION is `read' or `skip'\n",
      "  -R, -r, --recursive       equivalent to --directories=recurse\n",
      "      --include=FILE_PATTERN  search only files that match FILE_PATTERN\n",
      "      --exclude=FILE_PATTERN  skip files and directories matching FILE_PATTERN\n",
      "      --exclude-from=FILE   skip files matching any file pattern from FILE\n",
      "      --exclude-dir=PATTERN directories that match PATTERN will be skipped.\n",
      "  -L, --files-without-match print only names of FILEs containing no match\n",
      "  -l, --files-with-matches  print only names of FILEs containing matches\n",
      "  -c, --count               print only a count of matching lines per FILE\n",
      "  -T, --initial-tab         make tabs line up (if needed)\n",
      "  -Z, --null                print 0 byte after FILE name\n",
      "\n",
      "Context control:\n",
      "  -B, --before-context=NUM  print NUM lines of leading context\n",
      "  -A, --after-context=NUM   print NUM lines of trailing context\n",
      "  -C, --context=NUM         print NUM lines of output context\n",
      "  -NUM                      same as --context=NUM\n",
      "      --color[=WHEN],\n",
      "      --colour[=WHEN]       use markers to highlight the matching strings;\n",
      "                            WHEN is `always', `never', or `auto'\n",
      "  -U, --binary              do not strip CR characters at EOL (MSDOS)\n",
      "  -u, --unix-byte-offsets   report offsets as if CRs were not there (MSDOS)\n",
      "\n",
      "`egrep' means `grep -E'.  `fgrep' means `grep -F'.\n",
      "Direct invocation as either `egrep' or `fgrep' is deprecated.\n",
      "With no FILE, or when FILE is -, read standard input.  If less than two FILEs\n",
      "are given, assume -h.  Exit status is 0 if any line was selected, 1 otherwise;\n",
      "if any error occurs and -q was not given, the exit status is 2.\n",
      "\n",
      "Report bugs to: bug-grep@gnu.org\n",
      "GNU Grep home page: <http://www.gnu.org/software/grep/>\n",
      "General help using GNU software: <http://www.gnu.org/gethelp/>\n"
     ]
    }
   ],
   "source": [
    "!grep --help"
   ]
  },
  {
   "cell_type": "code",
   "execution_count": 18,
   "metadata": {
    "collapsed": false
   },
   "outputs": [
    {
     "name": "stdout",
     "output_type": "stream",
     "text": [
      "book1.txt\n",
      "book2.txt\n",
      "book3.txt\n",
      "create_list.py\n",
      "create_list_x.py\n",
      "create_long_list.py\n",
      "cuban_rock_iguana.jpg\n",
      "Lecture - Jupyter and IPython.ipynb\n",
      "matrix_calculations.py\n",
      "novel.txt\n"
     ]
    }
   ],
   "source": [
    "!ls"
   ]
  },
  {
   "cell_type": "code",
   "execution_count": 19,
   "metadata": {
    "collapsed": false
   },
   "outputs": [],
   "source": [
    "# copy file (use variables with shell commands)\n",
    "x='book1.txt'\n",
    "y='book1_copy.txt'\n",
    "!cp $x $y"
   ]
  },
  {
   "cell_type": "code",
   "execution_count": 20,
   "metadata": {
    "collapsed": false
   },
   "outputs": [
    {
     "name": "stdout",
     "output_type": "stream",
     "text": [
      "book1.txt\n",
      "book1_copy.txt\n",
      "book2.txt\n",
      "book3.txt\n",
      "create_list.py\n",
      "create_list_x.py\n",
      "create_long_list.py\n",
      "cuban_rock_iguana.jpg\n",
      "Lecture - Jupyter and IPython.ipynb\n",
      "matrix_calculations.py\n",
      "novel.txt\n"
     ]
    }
   ],
   "source": [
    "!ls"
   ]
  },
  {
   "cell_type": "code",
   "execution_count": 21,
   "metadata": {
    "collapsed": true
   },
   "outputs": [],
   "source": [
    "# delete file\n",
    "!rm book1_copy.txt"
   ]
  },
  {
   "cell_type": "code",
   "execution_count": 22,
   "metadata": {
    "collapsed": true
   },
   "outputs": [],
   "source": [
    "# write here solution to exercise 1\n",
    "\n"
   ]
  },
  {
   "cell_type": "markdown",
   "metadata": {},
   "source": [
    "<br style=margin:500px;>\n",
    "___"
   ]
  },
  {
   "cell_type": "code",
   "execution_count": 23,
   "metadata": {
    "collapsed": false
   },
   "outputs": [
    {
     "name": "stdout",
     "output_type": "stream",
     "text": [
      "ï»¿Project Gutenberg's The Song of Hugh Glass, by John Gneisenau Neihardt\n",
      "  6710  39958 275293 book1.txt\n",
      "ï»¿The Project Gutenberg EBook of Ein Volk in Waffen, by Sven Hedin\n",
      "  7321  60864 419319 book2.txt\n",
      "ï»¿The Project Gutenberg EBook of Sweet P's, by Julie Mathilde Lippmann\n",
      "  5024  44745 259404 book3.txt\n",
      "ï»¿The Project Gutenberg EBook of A Christmas Carol, by Charles Dickens\n",
      "  3853  32326 186809 novel.txt\n"
     ]
    }
   ],
   "source": [
    "# exercise solution\n",
    "files = !ls *.txt\n",
    "for f in files: \n",
    "    !head -1 $f\n",
    "    !wc $f"
   ]
  },
  {
   "cell_type": "markdown",
   "metadata": {},
   "source": [
    "# (4) Magic commands"
   ]
  },
  {
   "cell_type": "code",
   "execution_count": 24,
   "metadata": {
    "collapsed": true,
    "nbpresent": {
     "id": "970711d7-2d3b-4698-934d-26cf9bd24417"
    }
   },
   "outputs": [],
   "source": [
    "%quickref"
   ]
  },
  {
   "cell_type": "code",
   "execution_count": 25,
   "metadata": {
    "collapsed": false,
    "nbpresent": {
     "id": "eb829355-39e2-47d7-b48b-9506fd494856"
    }
   },
   "outputs": [
    {
     "data": {
      "application/json": {
       "cell": {
        "!": "OSMagics",
        "HTML": "Other",
        "SVG": "Other",
        "bash": "Other",
        "capture": "ExecutionMagics",
        "cmd": "Other",
        "debug": "ExecutionMagics",
        "file": "Other",
        "html": "DisplayMagics",
        "javascript": "DisplayMagics",
        "js": "DisplayMagics",
        "latex": "DisplayMagics",
        "perl": "Other",
        "prun": "ExecutionMagics",
        "pypy": "Other",
        "python": "Other",
        "python2": "Other",
        "python3": "Other",
        "ruby": "Other",
        "script": "ScriptMagics",
        "sh": "Other",
        "svg": "DisplayMagics",
        "sx": "OSMagics",
        "system": "OSMagics",
        "time": "ExecutionMagics",
        "timeit": "ExecutionMagics",
        "writefile": "OSMagics"
       },
       "line": {
        "alias": "OSMagics",
        "alias_magic": "BasicMagics",
        "autocall": "AutoMagics",
        "automagic": "AutoMagics",
        "autosave": "KernelMagics",
        "bookmark": "OSMagics",
        "cd": "OSMagics",
        "clear": "KernelMagics",
        "cls": "KernelMagics",
        "colors": "BasicMagics",
        "config": "ConfigMagics",
        "connect_info": "KernelMagics",
        "copy": "Other",
        "ddir": "Other",
        "debug": "ExecutionMagics",
        "dhist": "OSMagics",
        "dirs": "OSMagics",
        "doctest_mode": "BasicMagics",
        "echo": "Other",
        "ed": "Other",
        "edit": "KernelMagics",
        "env": "OSMagics",
        "gui": "BasicMagics",
        "hist": "Other",
        "history": "HistoryMagics",
        "killbgscripts": "ScriptMagics",
        "ldir": "Other",
        "less": "KernelMagics",
        "load": "CodeMagics",
        "load_ext": "ExtensionMagics",
        "loadpy": "CodeMagics",
        "logoff": "LoggingMagics",
        "logon": "LoggingMagics",
        "logstart": "LoggingMagics",
        "logstate": "LoggingMagics",
        "logstop": "LoggingMagics",
        "ls": "Other",
        "lsmagic": "BasicMagics",
        "macro": "ExecutionMagics",
        "magic": "BasicMagics",
        "matplotlib": "PylabMagics",
        "mkdir": "Other",
        "more": "KernelMagics",
        "notebook": "BasicMagics",
        "page": "BasicMagics",
        "pastebin": "CodeMagics",
        "pdb": "ExecutionMagics",
        "pdef": "NamespaceMagics",
        "pdoc": "NamespaceMagics",
        "pfile": "NamespaceMagics",
        "pinfo": "NamespaceMagics",
        "pinfo2": "NamespaceMagics",
        "popd": "OSMagics",
        "pprint": "BasicMagics",
        "precision": "BasicMagics",
        "profile": "BasicMagics",
        "prun": "ExecutionMagics",
        "psearch": "NamespaceMagics",
        "psource": "NamespaceMagics",
        "pushd": "OSMagics",
        "pwd": "OSMagics",
        "pycat": "OSMagics",
        "pylab": "PylabMagics",
        "qtconsole": "KernelMagics",
        "quickref": "BasicMagics",
        "recall": "HistoryMagics",
        "rehashx": "OSMagics",
        "reload_ext": "ExtensionMagics",
        "ren": "Other",
        "rep": "Other",
        "rerun": "HistoryMagics",
        "reset": "NamespaceMagics",
        "reset_selective": "NamespaceMagics",
        "rmdir": "Other",
        "run": "ExecutionMagics",
        "save": "CodeMagics",
        "sc": "OSMagics",
        "set_env": "OSMagics",
        "store": "StoreMagics",
        "sx": "OSMagics",
        "system": "OSMagics",
        "tb": "ExecutionMagics",
        "time": "ExecutionMagics",
        "timeit": "ExecutionMagics",
        "unalias": "OSMagics",
        "unload_ext": "ExtensionMagics",
        "who": "NamespaceMagics",
        "who_ls": "NamespaceMagics",
        "whos": "NamespaceMagics",
        "xdel": "NamespaceMagics",
        "xmode": "BasicMagics"
       }
      },
      "text/plain": [
       "Available line magics:\n",
       "%alias  %alias_magic  %autocall  %automagic  %autosave  %bookmark  %cd  %clear  %cls  %colors  %config  %connect_info  %copy  %ddir  %debug  %dhist  %dirs  %doctest_mode  %echo  %ed  %edit  %env  %gui  %hist  %history  %killbgscripts  %ldir  %less  %load  %load_ext  %loadpy  %logoff  %logon  %logstart  %logstate  %logstop  %ls  %lsmagic  %macro  %magic  %matplotlib  %mkdir  %more  %notebook  %page  %pastebin  %pdb  %pdef  %pdoc  %pfile  %pinfo  %pinfo2  %popd  %pprint  %precision  %profile  %prun  %psearch  %psource  %pushd  %pwd  %pycat  %pylab  %qtconsole  %quickref  %recall  %rehashx  %reload_ext  %ren  %rep  %rerun  %reset  %reset_selective  %rmdir  %run  %save  %sc  %set_env  %store  %sx  %system  %tb  %time  %timeit  %unalias  %unload_ext  %who  %who_ls  %whos  %xdel  %xmode\n",
       "\n",
       "Available cell magics:\n",
       "%%!  %%HTML  %%SVG  %%bash  %%capture  %%cmd  %%debug  %%file  %%html  %%javascript  %%js  %%latex  %%perl  %%prun  %%pypy  %%python  %%python2  %%python3  %%ruby  %%script  %%sh  %%svg  %%sx  %%system  %%time  %%timeit  %%writefile\n",
       "\n",
       "Automagic is ON, % prefix IS NOT needed for line magics."
      ]
     },
     "execution_count": 25,
     "metadata": {},
     "output_type": "execute_result"
    }
   ],
   "source": [
    "%lsmagic"
   ]
  },
  {
   "cell_type": "markdown",
   "metadata": {
    "nbpresent": {
     "id": "8df854a8-82d6-43e4-993e-13efb9a56d96"
    }
   },
   "source": [
    "### %run"
   ]
  },
  {
   "cell_type": "code",
   "execution_count": 26,
   "metadata": {
    "collapsed": false
   },
   "outputs": [
    {
     "name": "stdout",
     "output_type": "stream",
     "text": [
      "book1.txt\n",
      "book2.txt\n",
      "book3.txt\n",
      "create_list.py\n",
      "create_list_x.py\n",
      "create_long_list.py\n",
      "cuban_rock_iguana.jpg\n",
      "Lecture - Jupyter and IPython.ipynb\n",
      "matrix_calculations.py\n",
      "novel.txt\n"
     ]
    }
   ],
   "source": [
    "!ls"
   ]
  },
  {
   "cell_type": "code",
   "execution_count": 27,
   "metadata": {
    "collapsed": false,
    "nbpresent": {
     "id": "69e6f619-b494-49b3-a5bf-0d720686deb2"
    }
   },
   "outputs": [
    {
     "name": "stdout",
     "output_type": "stream",
     "text": [
      "# generate a list\n",
      "result = []\n",
      "for i in range(10):\n",
      "\tprint(i)\n",
      "\tresult.append(i)\n"
     ]
    }
   ],
   "source": [
    "!cat \"create_list.py\""
   ]
  },
  {
   "cell_type": "code",
   "execution_count": 28,
   "metadata": {
    "collapsed": false,
    "nbpresent": {
     "id": "1ad6dbbb-9a56-4bac-8be3-e603120348ef"
    },
    "scrolled": true
   },
   "outputs": [
    {
     "name": "stdout",
     "output_type": "stream",
     "text": [
      "0\n",
      "1\n",
      "2\n",
      "3\n",
      "4\n",
      "5\n",
      "6\n",
      "7\n",
      "8\n",
      "9\n"
     ]
    }
   ],
   "source": [
    "%run \"create_list.py\""
   ]
  },
  {
   "cell_type": "code",
   "execution_count": 29,
   "metadata": {
    "collapsed": false,
    "nbpresent": {
     "id": "3621bcb4-627c-4c7e-b4e1-973010c56631"
    }
   },
   "outputs": [
    {
     "name": "stdout",
     "output_type": "stream",
     "text": [
      "[0, 1, 2, 3, 4, 5, 6, 7, 8, 9]\n"
     ]
    }
   ],
   "source": [
    "print(result)"
   ]
  },
  {
   "cell_type": "code",
   "execution_count": 30,
   "metadata": {
    "collapsed": false,
    "nbpresent": {
     "id": "e68214da-3e3f-42bd-8a2b-3e62d504e3b0"
    }
   },
   "outputs": [
    {
     "name": "stdout",
     "output_type": "stream",
     "text": [
      "result = []\n",
      "for i in range(10):\n",
      "\tresult.append(i)\n",
      "result.append(x)\n"
     ]
    }
   ],
   "source": [
    "!cat \"create_list_x.py\""
   ]
  },
  {
   "cell_type": "code",
   "execution_count": 31,
   "metadata": {
    "collapsed": false,
    "nbpresent": {
     "id": "c431ffeb-afb0-4146-9dfc-50982858ebd4"
    }
   },
   "outputs": [
    {
     "ename": "NameError",
     "evalue": "name 'x' is not defined",
     "output_type": "error",
     "traceback": [
      "\u001b[0;31m---------------------------------------------------------------------------\u001b[0m",
      "\u001b[0;31mNameError\u001b[0m                                 Traceback (most recent call last)",
      "\u001b[0;32mC:\\Dropbox\\Projects\\ds with python\\Week 1 - Jupyter and IPython\\code\\create_list_x.py\u001b[0m in \u001b[0;36m<module>\u001b[0;34m()\u001b[0m\n\u001b[1;32m      2\u001b[0m \u001b[1;32mfor\u001b[0m \u001b[0mi\u001b[0m \u001b[1;32min\u001b[0m \u001b[0mrange\u001b[0m\u001b[1;33m(\u001b[0m\u001b[1;36m10\u001b[0m\u001b[1;33m)\u001b[0m\u001b[1;33m:\u001b[0m\u001b[1;33m\u001b[0m\u001b[0m\n\u001b[1;32m      3\u001b[0m         \u001b[0mresult\u001b[0m\u001b[1;33m.\u001b[0m\u001b[0mappend\u001b[0m\u001b[1;33m(\u001b[0m\u001b[0mi\u001b[0m\u001b[1;33m)\u001b[0m\u001b[1;33m\u001b[0m\u001b[0m\n\u001b[0;32m----> 4\u001b[0;31m \u001b[0mresult\u001b[0m\u001b[1;33m.\u001b[0m\u001b[0mappend\u001b[0m\u001b[1;33m(\u001b[0m\u001b[0mx\u001b[0m\u001b[1;33m)\u001b[0m\u001b[1;33m\u001b[0m\u001b[0m\n\u001b[0m",
      "\u001b[0;31mNameError\u001b[0m: name 'x' is not defined"
     ]
    }
   ],
   "source": [
    "x = 3\n",
    "%run \"create_list_x.py\" # the file is executed in an empty environment, in which x is undefined"
   ]
  },
  {
   "cell_type": "code",
   "execution_count": 32,
   "metadata": {
    "collapsed": false
   },
   "outputs": [
    {
     "data": {
      "text/plain": [
       "[0, 1, 2, 3, 4, 5, 6, 7, 8, 9, 3]"
      ]
     },
     "execution_count": 32,
     "metadata": {},
     "output_type": "execute_result"
    }
   ],
   "source": [
    "x = 3\n",
    "%run -i \"create_list_x.py\" \n",
    "result"
   ]
  },
  {
   "cell_type": "code",
   "execution_count": 33,
   "metadata": {
    "collapsed": false
   },
   "outputs": [
    {
     "name": "stdout",
     "output_type": "stream",
     "text": [
      "result = []\n",
      "for i in range(1000000):\n",
      "\tresult.append(i)\n",
      "\n"
     ]
    }
   ],
   "source": [
    "!cat \"create_long_list.py\""
   ]
  },
  {
   "cell_type": "code",
   "execution_count": 34,
   "metadata": {
    "collapsed": false,
    "nbpresent": {
     "id": "b203e86c-6609-4be6-9e7d-084a000b2e81"
    }
   },
   "outputs": [
    {
     "name": "stdout",
     "output_type": "stream",
     "text": [
      "\n",
      "IPython CPU timings (estimated):\n",
      "Total runs performed: 3\n",
      "  Times  :      Total      Per run\n",
      "  User   :       0.44 s,       0.15 s.\n",
      "  System :       0.00 s,       0.00 s.\n",
      "Wall time:       0.44 s.\n"
     ]
    }
   ],
   "source": [
    "%run -t -N3 \"create_long_list.py\" # measure running time"
   ]
  },
  {
   "cell_type": "code",
   "execution_count": 35,
   "metadata": {
    "collapsed": false,
    "nbpresent": {
     "id": "cc548b06-2fc4-4b74-8566-71c1b23fb0ec"
    }
   },
   "outputs": [],
   "source": [
    "?run"
   ]
  },
  {
   "cell_type": "markdown",
   "metadata": {
    "nbpresent": {
     "id": "1a64c1f0-6421-4684-a0df-befa0b2aff8a"
    }
   },
   "source": [
    "### %time"
   ]
  },
  {
   "cell_type": "code",
   "execution_count": 36,
   "metadata": {
    "collapsed": true,
    "nbpresent": {
     "id": "072d2d66-638e-4d9e-81e5-620a0e0f6549"
    }
   },
   "outputs": [],
   "source": [
    "import numpy as np"
   ]
  },
  {
   "cell_type": "code",
   "execution_count": 37,
   "metadata": {
    "collapsed": true,
    "nbpresent": {
     "id": "fb725752-c725-4115-89b3-b8af2c4861d4"
    }
   },
   "outputs": [],
   "source": [
    "# An implementation of matrix multiplication \n",
    "def multiply_manually(A,B):\n",
    "    result_py = []\n",
    "    for i in range(d):\n",
    "        result_py.append([])\n",
    "        for j in range(d):\n",
    "            temp = 0\n",
    "            for t in range(d):\n",
    "                temp+= A[i,t]*B[t,j]\n",
    "            result_py[-1].append(temp)\n",
    "            \n",
    "    return np.array(result_py)"
   ]
  },
  {
   "cell_type": "code",
   "execution_count": 38,
   "metadata": {
    "collapsed": false,
    "nbpresent": {
     "id": "e387379d-32c6-4b3c-9779-9716994a12c4"
    }
   },
   "outputs": [
    {
     "name": "stdout",
     "output_type": "stream",
     "text": [
      "True\n"
     ]
    }
   ],
   "source": [
    "d = 100 # matrix dimension\n",
    "\n",
    "# generate the random matrix A\n",
    "A = np.random.randint(1,10,size=(d,d))\n",
    "\n",
    "# generate the random matrix B\n",
    "B = np.random.randint(1,10,size=(d,d))\n",
    "\n",
    "# Multiply matrices\n",
    "m1 = np.dot(A,B)\n",
    "m2 = multiply_manually(A,B)\n",
    "print(np.all(m1==m2))"
   ]
  },
  {
   "cell_type": "code",
   "execution_count": 39,
   "metadata": {
    "collapsed": false,
    "nbpresent": {
     "id": "3bb12cdd-edd4-48cb-a2ea-089c8ba59031"
    }
   },
   "outputs": [
    {
     "name": "stdout",
     "output_type": "stream",
     "text": [
      "Wall time: 2 ms\n",
      "Wall time: 366 ms\n"
     ]
    }
   ],
   "source": [
    "%time m1 = np.dot(A,B)\n",
    "%time m2 = multiply_manually(A,B)"
   ]
  },
  {
   "cell_type": "code",
   "execution_count": 40,
   "metadata": {
    "collapsed": false,
    "nbpresent": {
     "id": "a0a2b809-85b3-4d58-80db-b177f3b22282"
    }
   },
   "outputs": [
    {
     "name": "stdout",
     "output_type": "stream",
     "text": [
      "10 loops, best of 3: 666 µs per loop\n",
      "10 loops, best of 3: 355 ms per loop\n"
     ]
    }
   ],
   "source": [
    "%timeit -n10 m1 = np.dot(A,B)\n",
    "%timeit -n10 m2 = multiply_manually(A,B)"
   ]
  },
  {
   "cell_type": "code",
   "execution_count": 41,
   "metadata": {
    "collapsed": false,
    "nbpresent": {
     "id": "0bfadac8-2ab0-4565-9d78-bbd1d5783808"
    }
   },
   "outputs": [
    {
     "name": "stdout",
     "output_type": "stream",
     "text": [
      "Variable            Type        Data/Info\n",
      "-----------------------------------------\n",
      "A                   ndarray     100x100: 10000 elems, type `int32`, 40000 bytes\n",
      "B                   ndarray     100x100: 10000 elems, type `int32`, 40000 bytes\n",
      "d                   int         100\n",
      "f                   str         novel.txt\n",
      "files               SList       ['book1.txt', 'book2.txt'<...>'book3.txt', 'novel.txt']\n",
      "i                   int         999999\n",
      "m1                  ndarray     100x100: 10000 elems, type `int32`, 40000 bytes\n",
      "m2                  ndarray     100x100: 10000 elems, type `int32`, 40000 bytes\n",
      "multiply_manually   function    <function multiply_manual<...>ly at 0x00000199CC094510>\n",
      "np                  module      <module 'numpy' from 'C:\\<...>ges\\\\numpy\\\\__init__.py'>\n",
      "result              list        n=1000000\n",
      "time                module      <module 'time' (built-in)>\n",
      "x                   int         3\n",
      "y                   str         book1_copy.txt\n"
     ]
    }
   ],
   "source": [
    "%whos"
   ]
  },
  {
   "cell_type": "markdown",
   "metadata": {
    "nbpresent": {
     "id": "4046927e-c8c2-4f49-98e6-02459bde2bed"
    }
   },
   "source": [
    "### Debugging with %debug"
   ]
  },
  {
   "cell_type": "code",
   "execution_count": 42,
   "metadata": {
    "collapsed": false,
    "nbpresent": {
     "id": "1560dadb-c681-45d6-b5b0-29edeb12744b"
    }
   },
   "outputs": [
    {
     "name": "stdout",
     "output_type": "stream",
     "text": [
      "i= -10 1/i= -0.1\n",
      "i= -9 1/i= -0.1111111111111111\n",
      "i= -8 1/i= -0.125\n",
      "i= -7 1/i= -0.14285714285714285\n",
      "i= -6 1/i= -0.16666666666666666\n",
      "i= -5 1/i= -0.2\n",
      "i= -4 1/i= -0.25\n",
      "i= -3 1/i= -0.3333333333333333\n",
      "i= -2 1/i= -0.5\n",
      "i= -1 1/i= -1.0\n"
     ]
    },
    {
     "ename": "ZeroDivisionError",
     "evalue": "division by zero",
     "output_type": "error",
     "traceback": [
      "\u001b[0;31m---------------------------------------------------------------------------\u001b[0m",
      "\u001b[0;31mZeroDivisionError\u001b[0m                         Traceback (most recent call last)",
      "\u001b[0;32mC:\\Dropbox\\Projects\\ds with python\\Week 1 - Jupyter and IPython\\code\\create_list_x.py\u001b[0m in \u001b[0;36m<module>\u001b[0;34m()\u001b[0m\n\u001b[1;32m      1\u001b[0m \u001b[1;32mfor\u001b[0m \u001b[0mi\u001b[0m \u001b[1;32min\u001b[0m \u001b[0mrange\u001b[0m\u001b[1;33m(\u001b[0m\u001b[1;33m-\u001b[0m\u001b[1;36m10\u001b[0m\u001b[1;33m,\u001b[0m\u001b[1;36m10\u001b[0m\u001b[1;33m,\u001b[0m\u001b[1;36m1\u001b[0m\u001b[1;33m)\u001b[0m\u001b[1;33m:\u001b[0m\u001b[1;33m\u001b[0m\u001b[0m\n\u001b[0;32m----> 2\u001b[0;31m     \u001b[0mprint\u001b[0m\u001b[1;33m(\u001b[0m\u001b[1;34m\"i=\"\u001b[0m\u001b[1;33m,\u001b[0m\u001b[0mi\u001b[0m\u001b[1;33m,\u001b[0m \u001b[1;34m\"1/i=\"\u001b[0m\u001b[1;33m,\u001b[0m\u001b[1;36m1\u001b[0m\u001b[1;33m/\u001b[0m\u001b[0mi\u001b[0m\u001b[1;33m)\u001b[0m \u001b[1;31m# expect error\u001b[0m\u001b[1;33m\u001b[0m\u001b[0m\n\u001b[0m",
      "\u001b[0;31mZeroDivisionError\u001b[0m: division by zero"
     ]
    }
   ],
   "source": [
    "for i in range(-10,10,1):\n",
    "    print(\"i=\",i, \"1/i=\",1/i) # expect error"
   ]
  },
  {
   "cell_type": "code",
   "execution_count": 43,
   "metadata": {
    "collapsed": false,
    "nbpresent": {
     "id": "3847d043-ba90-4bdd-a4ae-d7bbb8edc3fc"
    }
   },
   "outputs": [
    {
     "name": "stdout",
     "output_type": "stream",
     "text": [
      "> \u001b[0;32m<ipython-input-42-a0ce36418feb>\u001b[0m(2)\u001b[0;36m<module>\u001b[0;34m()\u001b[0m\n",
      "\u001b[0;32m      1 \u001b[0;31m\u001b[1;32mfor\u001b[0m \u001b[0mi\u001b[0m \u001b[1;32min\u001b[0m \u001b[0mrange\u001b[0m\u001b[1;33m(\u001b[0m\u001b[1;33m-\u001b[0m\u001b[1;36m10\u001b[0m\u001b[1;33m,\u001b[0m\u001b[1;36m10\u001b[0m\u001b[1;33m,\u001b[0m\u001b[1;36m1\u001b[0m\u001b[1;33m)\u001b[0m\u001b[1;33m:\u001b[0m\u001b[1;33m\u001b[0m\u001b[0m\n",
      "\u001b[0m\u001b[0;32m----> 2 \u001b[0;31m    \u001b[0mprint\u001b[0m\u001b[1;33m(\u001b[0m\u001b[1;34m\"i=\"\u001b[0m\u001b[1;33m,\u001b[0m\u001b[0mi\u001b[0m\u001b[1;33m,\u001b[0m \u001b[1;34m\"1/i=\"\u001b[0m\u001b[1;33m,\u001b[0m\u001b[1;36m1\u001b[0m\u001b[1;33m/\u001b[0m\u001b[0mi\u001b[0m\u001b[1;33m)\u001b[0m \u001b[1;31m# expect error\u001b[0m\u001b[1;33m\u001b[0m\u001b[0m\n",
      "\u001b[0m\n",
      "ipdb> i\n",
      "0\n",
      "ipdb> exit\n"
     ]
    }
   ],
   "source": [
    "%debug"
   ]
  },
  {
   "cell_type": "markdown",
   "metadata": {},
   "source": [
    "More on using the debugger: \n",
    "https://docs.python.org/3.7/library/pdb.html"
   ]
  },
  {
   "cell_type": "markdown",
   "metadata": {
    "nbpresent": {
     "id": "f7de2514-da27-448b-b812-1922b4e31014"
    }
   },
   "source": [
    "### Profiliing with %prun"
   ]
  },
  {
   "cell_type": "code",
   "execution_count": 1,
   "metadata": {
    "collapsed": false,
    "nbpresent": {
     "id": "2421289a-7d41-4687-94b7-7eeb174cdbb9"
    }
   },
   "outputs": [],
   "source": [
    "def f(a):\n",
    "    if a==0:\n",
    "        return 1\n",
    "    else:\n",
    "        return a*f(a-1)\n",
    "    \n",
    "def g(a):\n",
    "    if a==0:\n",
    "        return 1\n",
    "    else:\n",
    "        return g(a-1)*f(a)"
   ]
  },
  {
   "cell_type": "code",
   "execution_count": 2,
   "metadata": {
    "collapsed": false,
    "nbpresent": {
     "id": "9dfa2b3d-f9af-4794-82df-7899fa381d97"
    }
   },
   "outputs": [
    {
     "name": "stdout",
     "output_type": "stream",
     "text": [
      " "
     ]
    }
   ],
   "source": [
    "%prun g(100)"
   ]
  },
  {
   "cell_type": "code",
   "execution_count": 46,
   "metadata": {
    "collapsed": false,
    "nbpresent": {
     "id": "f3c33e32-91bc-4c3f-b84f-27061314f59b"
    }
   },
   "outputs": [
    {
     "name": "stdout",
     "output_type": "stream",
     "text": [
      "Wall time: 124 ms\n"
     ]
    }
   ],
   "source": [
    "%%time\n",
    "d = 500\n",
    "A = np.random.randint(0,100,size=(d,d))\n",
    "B = np.random.randint(0,100,size=(d,d))\n",
    "\n",
    "np.dot(A,B)"
   ]
  },
  {
   "cell_type": "code",
   "execution_count": 47,
   "metadata": {
    "collapsed": false,
    "nbpresent": {
     "id": "57f065d6-d6f0-4764-8370-5b5d87c2dcfc"
    }
   },
   "outputs": [
    {
     "name": "stdout",
     "output_type": "stream",
     "text": [
      "Overwriting matrix_calculations.py\n"
     ]
    }
   ],
   "source": [
    "%%writefile \"matrix_calculations.py\"\n",
    "def multiply_manually(A,B):\n",
    "    result_py = []\n",
    "    for i in range(d):\n",
    "        result_py.append([])\n",
    "        for j in range(d):\n",
    "            temp = 0\n",
    "            for t in range(d):\n",
    "                temp+= A[i,t]*B[t,j]\n",
    "            result_py[-1].append(temp)\n",
    "            \n",
    "    return np.array(result_py)"
   ]
  },
  {
   "cell_type": "code",
   "execution_count": 48,
   "metadata": {
    "collapsed": false,
    "nbpresent": {
     "id": "f0a683a7-24a0-454c-87f2-070d79d17904"
    }
   },
   "outputs": [
    {
     "name": "stdout",
     "output_type": "stream",
     "text": [
      "def multiply_manually(A,B):\n",
      "    result_py = []\n",
      "    for i in range(d):\n",
      "        result_py.append([])\n",
      "        for j in range(d):\n",
      "            temp = 0\n",
      "            for t in range(d):\n",
      "                temp+= A[i,t]*B[t,j]\n",
      "            result_py[-1].append(temp)\n",
      "            \n",
      "    return np.array(result_py)\n"
     ]
    }
   ],
   "source": [
    "!cat \"matrix_calculations.py\""
   ]
  },
  {
   "cell_type": "code",
   "execution_count": 3,
   "metadata": {
    "collapsed": true
   },
   "outputs": [],
   "source": [
    "%%capture c\n",
    "for i in range(10):\n",
    "    print(i)"
   ]
  },
  {
   "cell_type": "code",
   "execution_count": 50,
   "metadata": {
    "collapsed": false
   },
   "outputs": [
    {
     "name": "stdout",
     "output_type": "stream",
     "text": [
      "0\n",
      "1\n",
      "2\n",
      "3\n",
      "4\n",
      "5\n",
      "6\n",
      "7\n",
      "8\n",
      "9\n"
     ]
    }
   ],
   "source": [
    "c.show()"
   ]
  },
  {
   "cell_type": "code",
   "execution_count": 51,
   "metadata": {
    "collapsed": false,
    "scrolled": true
   },
   "outputs": [
    {
     "data": {
      "text/plain": [
       "'0\\n1\\n2\\n3\\n4\\n5\\n6\\n7\\n8\\n9\\n'"
      ]
     },
     "execution_count": 51,
     "metadata": {},
     "output_type": "execute_result"
    }
   ],
   "source": [
    "c.stdout"
   ]
  },
  {
   "cell_type": "code",
   "execution_count": 52,
   "metadata": {
    "collapsed": false
   },
   "outputs": [
    {
     "data": {
      "text/plain": [
       "''"
      ]
     },
     "execution_count": 52,
     "metadata": {},
     "output_type": "execute_result"
    }
   ],
   "source": [
    "c.stderr"
   ]
  },
  {
   "cell_type": "markdown",
   "metadata": {
    "nbpresent": {
     "id": "255832ba-0dac-4709-9989-3892798ede0b"
    }
   },
   "source": [
    "# (5) Command history"
   ]
  },
  {
   "cell_type": "code",
   "execution_count": 53,
   "metadata": {
    "collapsed": false,
    "nbpresent": {
     "id": "2bdb9814-7bed-4f0b-91ed-82b176c012c6"
    }
   },
   "outputs": [
    {
     "name": "stdout",
     "output_type": "stream",
     "text": [
      "c:\\\n"
     ]
    }
   ],
   "source": [
    "cd \"c:\\\""
   ]
  },
  {
   "cell_type": "code",
   "execution_count": 54,
   "metadata": {
    "collapsed": false,
    "nbpresent": {
     "id": "fe332b71-2cbb-4394-8e6d-952b15d0c74d"
    }
   },
   "outputs": [
    {
     "name": "stdout",
     "output_type": "stream",
     "text": [
      "Directory history (kept in _dh)\n",
      "0: C:\\Dropbox\\Projects\\ds with python\\Week 1 - Jupyter and IPython\\code\n",
      "1: c:\\\n"
     ]
    }
   ],
   "source": [
    "%dhist"
   ]
  },
  {
   "cell_type": "code",
   "execution_count": 55,
   "metadata": {
    "collapsed": false,
    "nbpresent": {
     "id": "a8f177cf-455d-49dc-a2f2-78f0e1952a4a"
    }
   },
   "outputs": [
    {
     "name": "stdout",
     "output_type": "stream",
     "text": [
      "C:\\Dropbox\\Projects\\ds with python\\Week 1 - Jupyter and IPython\\code\n"
     ]
    }
   ],
   "source": [
    "cd -0"
   ]
  },
  {
   "cell_type": "code",
   "execution_count": 56,
   "metadata": {
    "collapsed": false
   },
   "outputs": [
    {
     "data": {
      "text/plain": [
       "'C:\\\\Dropbox\\\\Projects\\\\ds with python\\\\Week 1 - Jupyter and IPython\\\\code'"
      ]
     },
     "execution_count": 56,
     "metadata": {},
     "output_type": "execute_result"
    }
   ],
   "source": [
    "pwd"
   ]
  },
  {
   "cell_type": "code",
   "execution_count": 57,
   "metadata": {
    "collapsed": true,
    "nbpresent": {
     "id": "60fcf073-16f5-4d5c-8ca0-70f07bb06181"
    }
   },
   "outputs": [],
   "source": [
    "%bookmark mydir "
   ]
  },
  {
   "cell_type": "code",
   "execution_count": 58,
   "metadata": {
    "collapsed": false,
    "nbpresent": {
     "id": "dd45dcc1-d17b-494c-b4d0-aa12a0ad7713"
    }
   },
   "outputs": [
    {
     "name": "stdout",
     "output_type": "stream",
     "text": [
      "c:\\\n"
     ]
    }
   ],
   "source": [
    "cd \"c:\\\""
   ]
  },
  {
   "cell_type": "code",
   "execution_count": 59,
   "metadata": {
    "collapsed": false,
    "nbpresent": {
     "id": "3183d855-061a-4919-a2bd-68d18d72c730"
    }
   },
   "outputs": [
    {
     "data": {
      "text/plain": [
       "'c:\\\\'"
      ]
     },
     "execution_count": 59,
     "metadata": {},
     "output_type": "execute_result"
    }
   ],
   "source": [
    "pwd"
   ]
  },
  {
   "cell_type": "code",
   "execution_count": 60,
   "metadata": {
    "collapsed": false,
    "nbpresent": {
     "id": "1b6bfff5-9085-4836-9993-76efd03edca3"
    }
   },
   "outputs": [
    {
     "name": "stdout",
     "output_type": "stream",
     "text": [
      "(bookmark:mydir) -> C:\\Dropbox\\Projects\\ds with python\\Week 1 - Jupyter and IPython\\code\n",
      "C:\\Dropbox\\Projects\\ds with python\\Week 1 - Jupyter and IPython\\code\n"
     ]
    }
   ],
   "source": [
    "cd mydir"
   ]
  },
  {
   "cell_type": "code",
   "execution_count": 61,
   "metadata": {
    "collapsed": false
   },
   "outputs": [
    {
     "data": {
      "text/plain": [
       "'C:\\\\Dropbox\\\\Projects\\\\ds with python\\\\Week 1 - Jupyter and IPython\\\\code'"
      ]
     },
     "execution_count": 61,
     "metadata": {},
     "output_type": "execute_result"
    }
   ],
   "source": [
    "pwd"
   ]
  },
  {
   "cell_type": "code",
   "execution_count": 62,
   "metadata": {
    "collapsed": true
   },
   "outputs": [],
   "source": [
    "?bookmark"
   ]
  }
 ],
 "metadata": {
  "anaconda-cloud": {},
  "kernelspec": {
   "display_name": "Python [conda root]",
   "language": "python",
   "name": "conda-root-py"
  },
  "language_info": {
   "codemirror_mode": {
    "name": "ipython",
    "version": 3
   },
   "file_extension": ".py",
   "mimetype": "text/x-python",
   "name": "python",
   "nbconvert_exporter": "python",
   "pygments_lexer": "ipython3",
   "version": "3.5.2"
  },
  "nbpresent": {
   "slides": {
    "abefdd6f-4489-41f6-83d6-d7f70ad6fcd8": {
     "id": "abefdd6f-4489-41f6-83d6-d7f70ad6fcd8",
     "layout": "grid",
     "prev": null,
     "regions": {
      "00ada303-dcc5-47fc-828d-497d9aec5b75": {
       "attrs": {
        "height": 1,
        "pad": 0.01,
        "treemap:weight": 1,
        "width": 1,
        "x": 0,
        "y": 0
       },
       "id": "00ada303-dcc5-47fc-828d-497d9aec5b75"
      }
     }
    }
   },
   "themes": {}
  }
 },
 "nbformat": 4,
 "nbformat_minor": 0
}
