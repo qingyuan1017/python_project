{
 "cells": [
  {
   "cell_type": "markdown",
   "metadata": {},
   "source": [
    "# Advanced Business Analytics (CIS442D)\n",
    "\n",
    "## Homework Assignment 1\n",
    "### Due date: 1/10/2017 23:55\n",
    "### Submission Instructions\n",
    "1. Each student should submit an individual homework assignment.\n",
    "2. Discussing solutions with others is allowed.\n",
    "3. Copying solutions is prohibited.\n",
    "4. Late submissions will not be accepted.\n",
    "5. Write your solutions in Jupyter IPython notebooks. Use markdown cells to format your document. Your solutions should be replicable, as it will be executed on the grader's computer.\n",
    "6. Solution files should be uploaded to Blackboard.\n",
    "---"
   ]
  },
  {
   "cell_type": "markdown",
   "metadata": {
    "collapsed": true
   },
   "source": [
    "# Problem 1: Strong Password Detection\n",
    "From\n",
    "\"Automate the Boring Stuff with Python: Practical Programming for Total Beginners\" by Al Sweigart (http://a.co/7Onl06W, https://automatetheboringstuff.com/chapter7/)\n",
    "\n",
    "Write a function that uses regular expressions to verify that a password string it is passed is strong. A strong password is defined as one that is at least eight characters long, contains both uppercase and lowercase characters, has at least one digit and does not contain space charachters (e.g., \" \", \\n, \\t). You may need to test the string against multiple regex patterns to validate its strength."
   ]
  },
  {
   "cell_type": "code",
   "execution_count": 1,
   "metadata": {
    "collapsed": false
   },
   "outputs": [
    {
     "name": "stdout",
     "output_type": "stream",
     "text": [
      "Your password should at least be eight character long\n",
      "Your password need contain uppercase\n",
      "Your password need contain uppercase\n",
      "Your password need contain at least one digit\n",
      "The password cannot contain space character\n",
      "Your password is strong\n"
     ]
    }
   ],
   "source": [
    "# write your solution to Problem (1) here\n",
    "import re\n",
    "\n",
    "def test_password(s):\n",
    "    if len(s) < 8:\n",
    "        return \"Your password should at least be eight character long\"\n",
    "    if re.search(r\"[A-Z]\",s) is None:\n",
    "        return \"Your password need contain uppercase\"\n",
    "    if re.search(r\"[a-z]\",s) is None:\n",
    "        return \"Your password need contain at lowercase\"\n",
    "    if re.search(r\"\\d\",s) is None:\n",
    "        return \"Your password need contain at least one digit\"\n",
    "    if re.search(r\"\\s\",s) is not None:\n",
    "        return \"Your password cannot contain space character\"\n",
    "    return \"Your password is strong\"\n",
    "    \n",
    "    \n",
    "# test code \n",
    "print(test_password('hello'))\n",
    "print(test_password('hello world'))\n",
    "print(test_password('helloworld'))\n",
    "print(test_password('helloWorld'))\n",
    "print(test_password('helloWorld9\\n'))\n",
    "print(test_password('helloWorld9'))"
   ]
  },
  {
   "cell_type": "markdown",
   "metadata": {},
   "source": [
    "# Problem 2: Caeser cipher\n",
    "Read more at: https://inventwithpython.com/hacking/chapter1.html and https://en.wikipedia.org/wiki/Caesar_cipher\n",
    "\n",
    "Caesar cipher is a simple text encryption technique where each letter is substituted by another letter in some fixed distance n. For example, for n=1 the word \"bat\" is encrypted to \"cbu\" (the first letter c replaces b, b replaces a, and u replaces t), and the word \"zebra\" is replaced by \"afcsb\". Similarly, for n=2, the word \"bat\" is encrypted to \"dcv\". \n",
    "\n",
    "1. write the function encrypt(s,n), which encrypts the word s by a shift of n letters. \n",
    "2. write the function decrypt(s,n), which decrypts an encoded word s.\n",
    "3. encode the file novel.txt with n=7 and save it as \"novel_encoded.txt\"\n",
    "4. decode the file \"novel_encoded.txt\" to \"novel_decoded.txt\". Make sure the files are identical.\n",
    "5. the file \"mystery.txt\" contains an encoded novel. Decipher the book and save it under \"mystery_decoded.txt\". What is the title of the book?\n",
    "\n",
    "Note: you may ignore non-alphabet characters"
   ]
  },
  {
   "cell_type": "code",
   "execution_count": 5,
   "metadata": {
    "collapsed": false
   },
   "outputs": [
    {
     "name": "stderr",
     "output_type": "stream",
     "text": [
      "'pwd' is not recognized as an internal or external command,\n",
      "operable program or batch file.\n"
     ]
    }
   ],
   "source": [
    "# write your solution to Problem (2) here\n",
    "def encrypt(s,n):\n",
    "    encryptText = \"\"\n",
    "    for c in s: \n",
    "        if c.isalpha():\n",
    "            InAlphabet = ord(c) + n \n",
    "            if InAlphabet > ord('z'):\n",
    "                InAlphabet -= 26\n",
    "            finalc = chr(InAlphabet)\n",
    "            encryptText += finalc\n",
    "    return encryptText\n",
    "    \n",
    "def decrypt(s,n):\n",
    "    return encrypt(s,-n)\n"
   ]
  },
  {
   "cell_type": "markdown",
   "metadata": {
    "collapsed": true
   },
   "source": [
    "# Exercise 3 (IPython)\n",
    "In this exercise, you will implement a sorting algorithm in Python and measure its performance. \n",
    "  1. Implemenet the function _mysort(l)_ which receives a list _l_ and returns a sorted copy. Explain your algorithm.\n",
    "  2. Apply the function on the following lists: \n",
    "    1. [ ] (the empty list)\n",
    "    2. [4,1,2,6,1]\n",
    "    3. Generate a random list with 100 numbers (you may use numpy.random.randint). Compare the output of your function with numpy.sort (notice the object types that each function returns)\n",
    "  3. Denote by _d_ the length of the random list. Compare the running time of the functions mysort and numpy.sort on 10 different instances for d=10, 100, 1000, and 10000.\n",
    "  4. Which function ran faster? why?\n",
    "  "
   ]
  },
  {
   "cell_type": "code",
   "execution_count": null,
   "metadata": {
    "collapsed": true
   },
   "outputs": [],
   "source": [
    "# write your solution to Problem (3.1) here"
   ]
  },
  {
   "cell_type": "code",
   "execution_count": null,
   "metadata": {
    "collapsed": true
   },
   "outputs": [],
   "source": [
    "# write your solution to Problem (3.2) here"
   ]
  },
  {
   "cell_type": "code",
   "execution_count": null,
   "metadata": {
    "collapsed": true
   },
   "outputs": [],
   "source": [
    "# write your solution to Problem (3.3) here"
   ]
  },
  {
   "cell_type": "code",
   "execution_count": null,
   "metadata": {
    "collapsed": true
   },
   "outputs": [],
   "source": [
    "# write your solution to Problem (3.4) here"
   ]
  },
  {
   "cell_type": "markdown",
   "metadata": {},
   "source": [
    "# Exercise 4 (OS shell commands)\n",
    "In this exercise, you will use shell commands to process a data file. The file name is \"CrimeStatebyState - clean.csv\" (downloaded from [here](https://ucr.fbi.gov/)). \n"
   ]
  },
  {
   "cell_type": "markdown",
   "metadata": {},
   "source": [
    "### 4.1 cat\n",
    "\n",
    "Print the file to the screen. Make sure the file is in your current working directory by running !pwd and !ls. Use the command cd to change the current working directory. Double click left to the output pane to hide or minimize the output pane."
   ]
  },
  {
   "cell_type": "code",
   "execution_count": null,
   "metadata": {
    "collapsed": false,
    "scrolled": true
   },
   "outputs": [],
   "source": [
    "# write your solution to Problem (4.1) here"
   ]
  },
  {
   "cell_type": "markdown",
   "metadata": {},
   "source": [
    "### 4.2 head\n",
    "\n",
    "Use the command head to print the first 7 rows of the file \"CrimeStatebyState - clean.csv\" "
   ]
  },
  {
   "cell_type": "code",
   "execution_count": null,
   "metadata": {
    "collapsed": false
   },
   "outputs": [],
   "source": [
    "# write your solution to Problem (4.2) here"
   ]
  },
  {
   "cell_type": "markdown",
   "metadata": {},
   "source": [
    "### 4.3 grep/egrep\n",
    "The commands grep and egrep can be used to filter lines from files that match certain patterns. This is particulary useful when analyzing data files that cannot fit in memory, but in which the data of interest is relatively small (small enough to fit memory).  \n",
    "\n",
    "Run the following commands\n",
    "  - !egrep \"^(Alabama|State)\" \"CrimeStatebyState - clean.csv\" > alabama.csv\n",
    "  - !cat alabama.csv\n",
    "  \n",
    "Compare the files \"CrimeStatebyState - clean.csv\" and \"alabama.csv\" (the latter was generated by your run). \n",
    "Explain the relation between the two files."
   ]
  },
  {
   "cell_type": "code",
   "execution_count": null,
   "metadata": {
    "collapsed": false,
    "scrolled": true
   },
   "outputs": [],
   "source": [
    "# write your solution to Problem (4.3) here"
   ]
  },
  {
   "cell_type": "markdown",
   "metadata": {},
   "source": [
    "### 4.4 cut\n",
    "\n",
    "The cut command can be used to extract information from each line. Run the following command:\n",
    "\n",
    "!cut -d\",\" -f1-3 \"CrimeStatebyState - clean.csv\" > \"CrimeStatebyState-cut.csv\"\n",
    "\n",
    "The parameter -d\",\" specifies the columns (field) delimeter (separator), while the parameter -f1-3 indicates that columns 1-3 should be extracted from each line. The \">\" sign indicates that the output should be redirected to the file \"CrimeStatebyState-cut.csv\" (otherwise, it is printed to screen). (You may run \"!cut --help\" for more information on additional parameters).\n",
    "\n",
    "Interpret (make an educated guess of) the data stored in the newly created file \"CrimeStatebyState-cut.csv\"."
   ]
  },
  {
   "cell_type": "code",
   "execution_count": null,
   "metadata": {
    "collapsed": true
   },
   "outputs": [],
   "source": [
    "# write your solution to Problem (4.4) here"
   ]
  }
 ],
 "metadata": {
  "anaconda-cloud": {},
  "kernelspec": {
   "display_name": "Python [conda root]",
   "language": "python",
   "name": "conda-root-py"
  },
  "language_info": {
   "codemirror_mode": {
    "name": "ipython",
    "version": 3
   },
   "file_extension": ".py",
   "mimetype": "text/x-python",
   "name": "python",
   "nbconvert_exporter": "python",
   "pygments_lexer": "ipython3",
   "version": "3.5.2"
  }
 },
 "nbformat": 4,
 "nbformat_minor": 1
}
